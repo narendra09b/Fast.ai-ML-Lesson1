{
  "cells": [
    {
      "metadata": {
        "_uuid": "75eb87dace7492bfe684b08bb0d77f8bbcb4f3ce"
      },
      "cell_type": "markdown",
      "source": "This is a copy of lesson 1 notebook from fast.ai course Introduction to Machine Learning for Coders. It was modified in the data input only, so that i can run on Kaggle kernels.\n\nSource: https://github.com/fastai/fastai/blob/master/courses/ml1/lesson1-rf.ipynb\n\nBased on notebook version: bbcd4e0\n\nCourse page: http://course.fast.ai/ml.html"
    },
    {
      "metadata": {
        "_uuid": "16b37a420a8bbda6aa8fbe9cfde6a581104e55f5"
      },
      "cell_type": "markdown",
      "source": "# Intro to Random Forests"
    },
    {
      "metadata": {
        "_uuid": "8e84d3d4fc5d0a5aa8d89c0065a59182de4e92aa"
      },
      "cell_type": "markdown",
      "source": "## About this course"
    },
    {
      "metadata": {
        "_uuid": "3fe42709606dfcf989fe695761dc62756dffe7a1"
      },
      "cell_type": "markdown",
      "source": "### Teaching approach"
    },
    {
      "metadata": {
        "_uuid": "3d42a5741f559dda969f2ee5ebed6dd952eb19a1"
      },
      "cell_type": "markdown",
      "source": "This course is being taught by Jeremy Howard, and was developed by Jeremy along with Rachel Thomas. Rachel has been dealing with a life-threatening illness so will not be teaching as originally planned this year.\n\nJeremy has worked in a number of different areas - feel free to ask about anything that he might be able to help you with at any time, even if not directly related to the current topic:\n\n- Management consultant (McKinsey; AT Kearney)\n- Self-funded startup entrepreneur (Fastmail: first consumer synchronized email; Optimal Decisions: first optimized insurance pricing)\n- VC-funded startup entrepreneur: (Kaggle; Enlitic: first deep-learning medical company)"
    },
    {
      "metadata": {
        "_uuid": "abed84c2ece71dac3c394fb55eb393acec64aa5a"
      },
      "cell_type": "markdown",
      "source": "I'll be using a *top-down* teaching method, which is different from how most math courses operate.  Typically, in a *bottom-up* approach, you first learn all the separate components you will be using, and then you gradually build them up into more complex structures.  The problems with this are that students often lose motivation, don't have a sense of the \"big picture\", and don't know what they'll need.\n\nIf you took the fast.ai deep learning course, that is what we used.  You can hear more about my teaching philosophy [in this blog post](http://www.fast.ai/2016/10/08/teaching-philosophy/) or [in this talk](https://vimeo.com/214233053).\n\nHarvard Professor David Perkins has a book, [Making Learning Whole](https://www.amazon.com/Making-Learning-Whole-Principles-Transform/dp/0470633719) in which he uses baseball as an analogy.  We don't require kids to memorize all the rules of baseball and understand all the technical details before we let them play the game.  Rather, they start playing with a just general sense of it, and then gradually learn more rules/details as time goes on.\n\nAll that to say, don't worry if you don't understand everything at first!  You're not supposed to.  We will start using some \"black boxes\" such as random forests that haven't yet been explained in detail, and then we'll dig into the lower level details later.\n\nTo start, focus on what things DO, not what they ARE."
    },
    {
      "metadata": {
        "_uuid": "59c1f5aabb15ea4f417efbfd81637f94774e2bce"
      },
      "cell_type": "markdown",
      "source": "### Your practice"
    },
    {
      "metadata": {
        "_uuid": "2e927a38965bcaf35157faca4f7976f1306ebddc"
      },
      "cell_type": "markdown",
      "source": "People learn by:\n1. **doing** (coding and building)\n2. **explaining** what they've learned (by writing or helping others)\n\nTherefore, we suggest that you practice these skills on Kaggle by:\n1. Entering competitions (*doing*)\n2. Creating Kaggle kernels (*explaining*)\n\nIt's OK if you don't get good competition ranks or any kernel votes at first - that's totally normal! Just try to keep improving every day, and you'll see the results over time."
    },
    {
      "metadata": {
        "_uuid": "a8a3a0b6bb0bfee114a06fd91bf7763c6c53344c"
      },
      "cell_type": "markdown",
      "source": "To get better at technical writing, study the top ranked Kaggle kernels from past competitions, and read posts from well-regarded technical bloggers. Some good role models include:\n\n- [Peter Norvig](http://nbviewer.jupyter.org/url/norvig.com/ipython/ProbabilityParadox.ipynb) (more [here](http://norvig.com/ipython/))\n- [Stephen Merity](https://smerity.com/articles/2017/deepcoder_and_ai_hype.html)\n- [Julia Evans](https://codewords.recurse.com/issues/five/why-do-neural-networks-think-a-panda-is-a-vulture) (more [here](https://jvns.ca/blog/2014/08/12/what-happens-if-you-write-a-tcp-stack-in-python/))\n- [Julia Ferraioli](http://blog.juliaferraioli.com/2016/02/exploring-world-using-vision-twilio.html)\n- [Edwin Chen](http://blog.echen.me/2014/10/07/moving-beyond-ctr-better-recommendations-through-human-evaluation/)\n- [Slav Ivanov](https://blog.slavv.com/picking-an-optimizer-for-style-transfer-86e7b8cba84b) (fast.ai student)\n- [Brad Kenstler](https://hackernoon.com/non-artistic-style-transfer-or-how-to-draw-kanye-using-captain-picards-face-c4a50256b814) (fast.ai and USF MSAN student)"
    },
    {
      "metadata": {
        "_uuid": "c24c191f97202dd6d006d1cf9aa1e98c4f426c13"
      },
      "cell_type": "markdown",
      "source": "### Books"
    },
    {
      "metadata": {
        "_uuid": "32dfb5b4ef4d9ddfb71ceddcee6f8a68ae46d59a"
      },
      "cell_type": "markdown",
      "source": "The more familiarity you have with numeric programming in Python, the better. If you're looking to improve in this area, we strongly suggest Wes McKinney's [Python for Data Analysis, 2nd ed](https://www.amazon.com/Python-Data-Analysis-Wrangling-IPython/dp/1491957662/ref=asap_bc?ie=UTF8).\n\nFor machine learning with Python, we recommend:\n\n- [Introduction to Machine Learning with Python](https://www.amazon.com/Introduction-Machine-Learning-Andreas-Mueller/dp/1449369413): From one of the scikit-learn authors, which is the main library we'll be using\n- [Python Machine Learning: Machine Learning and Deep Learning with Python, scikit-learn, and TensorFlow, 2nd Edition](https://www.amazon.com/Python-Machine-Learning-scikit-learn-TensorFlow/dp/1787125939/ref=dp_ob_title_bk): New version of a very successful book. A lot of the new material however covers deep learning in Tensorflow, which isn't relevant to this course\n- [Hands-On Machine Learning with Scikit-Learn and TensorFlow](https://www.amazon.com/Hands-Machine-Learning-Scikit-Learn-TensorFlow/dp/1491962291/ref=pd_lpo_sbs_14_t_0?_encoding=UTF8&psc=1&refRID=MBV2QMFH3EZ6B3YBY40K)\n"
    },
    {
      "metadata": {
        "_uuid": "82241a836b6bbb4ba643517a509e330fbd266a5a"
      },
      "cell_type": "markdown",
      "source": "### Syllabus in brief"
    },
    {
      "metadata": {
        "_uuid": "cb2cb72f33559cc8c8088f796aad70eaa38732e3"
      },
      "cell_type": "markdown",
      "source": "Depending on time and class interests, we'll cover something like (not necessarily in this order):\n\n- Train vs test\n  - Effective validation set construction\n- Trees and ensembles\n  - Creating random forests\n  - Interpreting random forests\n- What is ML?  Why do we use it?\n  - What makes a good ML project?\n  - Structured vs unstructured data\n  - Examples of failures/mistakes\n- Feature engineering\n  - Domain specific - dates, URLs, text\n  - Embeddings / latent factors\n- Regularized models trained with SGD\n  - GLMs, Elasticnet, etc (NB: see what James covered)\n- Basic neural nets\n  - PyTorch\n  - Broadcasting, Matrix Multiplication\n  - Training loop, backpropagation\n- KNN\n- CV / bootstrap (Diabetes data set?)\n- Ethical considerations"
    },
    {
      "metadata": {
        "_uuid": "eb292c111db17f30a7722dfad1878b8a244bb9b8"
      },
      "cell_type": "markdown",
      "source": "Skip:\n\n- Dimensionality reduction\n- Interactions\n- Monitoring training\n- Collaborative filtering\n- Momentum and LR annealing\n"
    },
    {
      "metadata": {
        "_uuid": "a5cccd7ec19f6d4c6b05bfc47ca02778ddc3de37"
      },
      "cell_type": "markdown",
      "source": "## Imports"
    },
    {
      "metadata": {
        "trusted": true,
        "_uuid": "c60ee5a1bbe5e8768193cb46ecc555a613f00dfb"
      },
      "cell_type": "code",
      "source": "%load_ext autoreload\n%autoreload 2\n\n%matplotlib inline",
      "execution_count": 2,
      "outputs": []
    },
    {
      "metadata": {
        "trusted": true,
        "_uuid": "9cd029d8c834e1afceb53e48efb24fb7b29d10b8"
      },
      "cell_type": "code",
      "source": "!pip install git+https://github.com/fastai/fastai@2e1ccb58121dc648751e2109fc0fbf6925aa8887",
      "execution_count": 3,
      "outputs": [
        {
          "output_type": "stream",
          "text": "Collecting git+https://github.com/fastai/fastai@2e1ccb58121dc648751e2109fc0fbf6925aa8887\n  Cloning https://github.com/fastai/fastai (to revision 2e1ccb58121dc648751e2109fc0fbf6925aa8887) to /tmp/pip-req-build-6juhpz10\nRequirement already satisfied (use --upgrade to upgrade): fastai==0.7.0 from git+https://github.com/fastai/fastai@2e1ccb58121dc648751e2109fc0fbf6925aa8887 in /opt/conda/lib/python3.6/site-packages\nRequirement already satisfied: bcolz in /opt/conda/lib/python3.6/site-packages (from fastai==0.7.0) (1.2.1)\nRequirement already satisfied: bleach in /opt/conda/lib/python3.6/site-packages (from fastai==0.7.0) (2.1.3)\nRequirement already satisfied: certifi in /opt/conda/lib/python3.6/site-packages (from fastai==0.7.0) (2018.11.29)\nRequirement already satisfied: cycler in /opt/conda/lib/python3.6/site-packages (from fastai==0.7.0) (0.10.0)\nRequirement already satisfied: decorator in /opt/conda/lib/python3.6/site-packages (from fastai==0.7.0) (4.3.0)\nRequirement already satisfied: entrypoints in /opt/conda/lib/python3.6/site-packages (from fastai==0.7.0) (0.2.3)\nRequirement already satisfied: feather-format in /opt/conda/lib/python3.6/site-packages (from fastai==0.7.0) (0.4.0)\nRequirement already satisfied: graphviz in /opt/conda/lib/python3.6/site-packages (from fastai==0.7.0) (0.8.4)\nRequirement already satisfied: html5lib in /opt/conda/lib/python3.6/site-packages (from fastai==0.7.0) (1.0.1)\nRequirement already satisfied: ipykernel in /opt/conda/lib/python3.6/site-packages (from fastai==0.7.0) (4.8.2)\nRequirement already satisfied: ipython in /opt/conda/lib/python3.6/site-packages (from fastai==0.7.0) (6.4.0)\nRequirement already satisfied: ipython-genutils in /opt/conda/lib/python3.6/site-packages (from fastai==0.7.0) (0.2.0)\nRequirement already satisfied: ipywidgets in /opt/conda/lib/python3.6/site-packages (from fastai==0.7.0) (7.2.1)\nRequirement already satisfied: isoweek in /opt/conda/lib/python3.6/site-packages (from fastai==0.7.0) (1.3.3)\nRequirement already satisfied: jedi in /opt/conda/lib/python3.6/site-packages (from fastai==0.7.0) (0.12.0)\nRequirement already satisfied: Jinja2 in /opt/conda/lib/python3.6/site-packages (from fastai==0.7.0) (2.10)\nRequirement already satisfied: jsonschema in /opt/conda/lib/python3.6/site-packages (from fastai==0.7.0) (2.6.0)\nRequirement already satisfied: jupyter in /opt/conda/lib/python3.6/site-packages (from fastai==0.7.0) (1.0.0)\nRequirement already satisfied: MarkupSafe in /opt/conda/lib/python3.6/site-packages (from fastai==0.7.0) (1.0)\nRequirement already satisfied: matplotlib in /opt/conda/lib/python3.6/site-packages (from fastai==0.7.0) (2.2.3)\nRequirement already satisfied: numpy in /opt/conda/lib/python3.6/site-packages (from fastai==0.7.0) (1.16.0)\nRequirement already satisfied: opencv-python in /opt/conda/lib/python3.6/site-packages (from fastai==0.7.0) (4.0.0.21)\nRequirement already satisfied: pandas in /opt/conda/lib/python3.6/site-packages (from fastai==0.7.0) (0.23.4)\nRequirement already satisfied: pandas_summary in /opt/conda/lib/python3.6/site-packages (from fastai==0.7.0) (0.0.6)\nRequirement already satisfied: pickleshare in /opt/conda/lib/python3.6/site-packages (from fastai==0.7.0) (0.7.4)\nRequirement already satisfied: Pillow in /opt/conda/lib/python3.6/site-packages (from fastai==0.7.0) (5.1.0)\nRequirement already satisfied: plotnine in /opt/conda/lib/python3.6/site-packages (from fastai==0.7.0) (0.4.0)\nRequirement already satisfied: ptyprocess in /opt/conda/lib/python3.6/site-packages (from fastai==0.7.0) (0.5.2)\nRequirement already satisfied: Pygments in /opt/conda/lib/python3.6/site-packages (from fastai==0.7.0) (2.2.0)\nRequirement already satisfied: pyparsing in /opt/conda/lib/python3.6/site-packages (from fastai==0.7.0) (2.2.0)\nRequirement already satisfied: python-dateutil in /opt/conda/lib/python3.6/site-packages (from fastai==0.7.0) (2.6.0)\nRequirement already satisfied: pytz in /opt/conda/lib/python3.6/site-packages (from fastai==0.7.0) (2018.4)\nRequirement already satisfied: PyYAML in /opt/conda/lib/python3.6/site-packages (from fastai==0.7.0) (3.12)\nRequirement already satisfied: pyzmq in /opt/conda/lib/python3.6/site-packages (from fastai==0.7.0) (17.0.0)\nRequirement already satisfied: scipy in /opt/conda/lib/python3.6/site-packages (from fastai==0.7.0) (1.1.0)\nRequirement already satisfied: seaborn in /opt/conda/lib/python3.6/site-packages (from fastai==0.7.0) (0.9.0)\nRequirement already satisfied: simplegeneric in /opt/conda/lib/python3.6/site-packages (from fastai==0.7.0) (0.8.1)\nRequirement already satisfied: sklearn_pandas in /opt/conda/lib/python3.6/site-packages (from fastai==0.7.0) (1.8.0)\nRequirement already satisfied: spacy in /opt/conda/lib/python3.6/site-packages (from fastai==0.7.0) (2.0.18)\nRequirement already satisfied: testpath in /opt/conda/lib/python3.6/site-packages (from fastai==0.7.0) (0.3.1)\nRequirement already satisfied: torch<0.4 in /opt/conda/lib/python3.6/site-packages (from fastai==0.7.0) (0.3.1)\nRequirement already satisfied: torchtext in /opt/conda/lib/python3.6/site-packages (from fastai==0.7.0) (0.3.1)\nRequirement already satisfied: torchvision in /opt/conda/lib/python3.6/site-packages (from fastai==0.7.0) (0.2.1)\nRequirement already satisfied: tornado in /opt/conda/lib/python3.6/site-packages (from fastai==0.7.0) (5.0.2)\nRequirement already satisfied: tqdm in /opt/conda/lib/python3.6/site-packages (from fastai==0.7.0) (4.29.1)\nRequirement already satisfied: traitlets in /opt/conda/lib/python3.6/site-packages (from fastai==0.7.0) (4.3.2)\nRequirement already satisfied: wcwidth in /opt/conda/lib/python3.6/site-packages (from fastai==0.7.0) (0.1.7)\nRequirement already satisfied: webencodings in /opt/conda/lib/python3.6/site-packages (from fastai==0.7.0) (0.5.1)\nRequirement already satisfied: widgetsnbextension in /opt/conda/lib/python3.6/site-packages (from fastai==0.7.0) (3.2.1)\nRequirement already satisfied: six in /opt/conda/lib/python3.6/site-packages (from bleach->fastai==0.7.0) (1.12.0)\nRequirement already satisfied: pyarrow>=0.4.0 in /opt/conda/lib/python3.6/site-packages (from feather-format->fastai==0.7.0) (0.10.0)\nRequirement already satisfied: jupyter_client in /opt/conda/lib/python3.6/site-packages (from ipykernel->fastai==0.7.0) (5.2.3)\nRequirement already satisfied: setuptools>=18.5 in /opt/conda/lib/python3.6/site-packages (from ipython->fastai==0.7.0) (39.1.0)\nRequirement already satisfied: backcall in /opt/conda/lib/python3.6/site-packages (from ipython->fastai==0.7.0) (0.1.0)\nRequirement already satisfied: prompt-toolkit<2.0.0,>=1.0.15 in /opt/conda/lib/python3.6/site-packages (from ipython->fastai==0.7.0) (1.0.15)\nRequirement already satisfied: pexpect; sys_platform != \"win32\" in /opt/conda/lib/python3.6/site-packages (from ipython->fastai==0.7.0) (4.5.0)\nRequirement already satisfied: nbformat>=4.2.0 in /opt/conda/lib/python3.6/site-packages (from ipywidgets->fastai==0.7.0) (4.4.0)\nRequirement already satisfied: parso>=0.2.0 in /opt/conda/lib/python3.6/site-packages (from jedi->fastai==0.7.0) (0.2.0)\nRequirement already satisfied: notebook in /opt/conda/lib/python3.6/site-packages (from jupyter->fastai==0.7.0) (5.5.0)\nRequirement already satisfied: qtconsole in /opt/conda/lib/python3.6/site-packages (from jupyter->fastai==0.7.0) (4.3.1)\nRequirement already satisfied: jupyter-console in /opt/conda/lib/python3.6/site-packages (from jupyter->fastai==0.7.0) (5.2.0)\nRequirement already satisfied: nbconvert in /opt/conda/lib/python3.6/site-packages (from jupyter->fastai==0.7.0) (5.3.1)\nRequirement already satisfied: kiwisolver>=1.0.1 in /opt/conda/lib/python3.6/site-packages (from matplotlib->fastai==0.7.0) (1.0.1)\nRequirement already satisfied: geopandas>=0.3.0 in /opt/conda/lib/python3.6/site-packages (from plotnine->fastai==0.7.0) (0.4.0)\nRequirement already satisfied: descartes>=1.1.0 in /opt/conda/lib/python3.6/site-packages (from plotnine->fastai==0.7.0) (1.1.0)\nRequirement already satisfied: statsmodels>=0.8.0 in /opt/conda/lib/python3.6/site-packages (from plotnine->fastai==0.7.0) (0.9.0)\nRequirement already satisfied: mizani>=0.4.5 in /opt/conda/lib/python3.6/site-packages (from plotnine->fastai==0.7.0) (0.5.3)\nRequirement already satisfied: patsy>=0.4.1 in /opt/conda/lib/python3.6/site-packages (from plotnine->fastai==0.7.0) (0.5.0)\nRequirement already satisfied: scikit-learn>=0.15.0 in /opt/conda/lib/python3.6/site-packages (from sklearn_pandas->fastai==0.7.0) (0.20.2)\nRequirement already satisfied: murmurhash<1.1.0,>=0.28.0 in /opt/conda/lib/python3.6/site-packages (from spacy->fastai==0.7.0) (1.0.0)\nRequirement already satisfied: cymem<2.1.0,>=2.0.2 in /opt/conda/lib/python3.6/site-packages (from spacy->fastai==0.7.0) (2.0.2)\nRequirement already satisfied: preshed<2.1.0,>=2.0.1 in /opt/conda/lib/python3.6/site-packages (from spacy->fastai==0.7.0) (2.0.1)\nRequirement already satisfied: thinc<6.13.0,>=6.12.1 in /opt/conda/lib/python3.6/site-packages (from spacy->fastai==0.7.0) (6.12.1)\n",
          "name": "stdout"
        },
        {
          "output_type": "stream",
          "text": "Requirement already satisfied: plac<1.0.0,>=0.9.6 in /opt/conda/lib/python3.6/site-packages (from spacy->fastai==0.7.0) (0.9.6)\nRequirement already satisfied: ujson>=1.35 in /opt/conda/lib/python3.6/site-packages (from spacy->fastai==0.7.0) (1.35)\nRequirement already satisfied: dill<0.3,>=0.2 in /opt/conda/lib/python3.6/site-packages (from spacy->fastai==0.7.0) (0.2.8.2)\nRequirement already satisfied: regex==2018.01.10 in /opt/conda/lib/python3.6/site-packages (from spacy->fastai==0.7.0) (2018.1.10)\nRequirement already satisfied: requests<3.0.0,>=2.13.0 in /opt/conda/lib/python3.6/site-packages (from spacy->fastai==0.7.0) (2.21.0)\nRequirement already satisfied: jupyter_core in /opt/conda/lib/python3.6/site-packages (from jupyter_client->ipykernel->fastai==0.7.0) (4.4.0)\nRequirement already satisfied: terminado>=0.8.1 in /opt/conda/lib/python3.6/site-packages (from notebook->jupyter->fastai==0.7.0) (0.8.1)\nRequirement already satisfied: Send2Trash in /opt/conda/lib/python3.6/site-packages (from notebook->jupyter->fastai==0.7.0) (1.5.0)\nRequirement already satisfied: mistune>=0.7.4 in /opt/conda/lib/python3.6/site-packages (from nbconvert->jupyter->fastai==0.7.0) (0.8.3)\nRequirement already satisfied: pandocfilters>=1.4.1 in /opt/conda/lib/python3.6/site-packages (from nbconvert->jupyter->fastai==0.7.0) (1.4.2)\nRequirement already satisfied: shapely in /opt/conda/lib/python3.6/site-packages (from geopandas>=0.3.0->plotnine->fastai==0.7.0) (1.6.4.post2)\nRequirement already satisfied: pyproj in /opt/conda/lib/python3.6/site-packages (from geopandas>=0.3.0->plotnine->fastai==0.7.0) (1.9.6)\nRequirement already satisfied: fiona in /opt/conda/lib/python3.6/site-packages (from geopandas>=0.3.0->plotnine->fastai==0.7.0) (1.8.4)\nRequirement already satisfied: palettable in /opt/conda/lib/python3.6/site-packages (from mizani>=0.4.5->plotnine->fastai==0.7.0) (3.1.1)\nRequirement already satisfied: msgpack<0.6.0,>=0.5.6 in /opt/conda/lib/python3.6/site-packages (from thinc<6.13.0,>=6.12.1->spacy->fastai==0.7.0) (0.5.6)\nRequirement already satisfied: msgpack-numpy<0.4.4 in /opt/conda/lib/python3.6/site-packages (from thinc<6.13.0,>=6.12.1->spacy->fastai==0.7.0) (0.4.3.2)\nRequirement already satisfied: cytoolz<0.10,>=0.9.0 in /opt/conda/lib/python3.6/site-packages (from thinc<6.13.0,>=6.12.1->spacy->fastai==0.7.0) (0.9.0.1)\nRequirement already satisfied: wrapt<1.11.0,>=1.10.0 in /opt/conda/lib/python3.6/site-packages (from thinc<6.13.0,>=6.12.1->spacy->fastai==0.7.0) (1.10.11)\nRequirement already satisfied: chardet<3.1.0,>=3.0.2 in /opt/conda/lib/python3.6/site-packages (from requests<3.0.0,>=2.13.0->spacy->fastai==0.7.0) (3.0.4)\nRequirement already satisfied: urllib3<1.25,>=1.21.1 in /opt/conda/lib/python3.6/site-packages (from requests<3.0.0,>=2.13.0->spacy->fastai==0.7.0) (1.22)\nRequirement already satisfied: idna<2.9,>=2.5 in /opt/conda/lib/python3.6/site-packages (from requests<3.0.0,>=2.13.0->spacy->fastai==0.7.0) (2.6)\nRequirement already satisfied: munch in /opt/conda/lib/python3.6/site-packages (from fiona->geopandas>=0.3.0->plotnine->fastai==0.7.0) (2.3.2)\nRequirement already satisfied: attrs>=17 in /opt/conda/lib/python3.6/site-packages (from fiona->geopandas>=0.3.0->plotnine->fastai==0.7.0) (18.1.0)\nRequirement already satisfied: click-plugins>=1.0 in /opt/conda/lib/python3.6/site-packages (from fiona->geopandas>=0.3.0->plotnine->fastai==0.7.0) (1.0.4)\nRequirement already satisfied: cligj>=0.5 in /opt/conda/lib/python3.6/site-packages (from fiona->geopandas>=0.3.0->plotnine->fastai==0.7.0) (0.5.0)\nRequirement already satisfied: click<8,>=4.0 in /opt/conda/lib/python3.6/site-packages (from fiona->geopandas>=0.3.0->plotnine->fastai==0.7.0) (7.0)\nRequirement already satisfied: toolz>=0.8.0 in /opt/conda/lib/python3.6/site-packages (from cytoolz<0.10,>=0.9.0->thinc<6.13.0,>=6.12.1->spacy->fastai==0.7.0) (0.9.0)\nBuilding wheels for collected packages: fastai\n  Running setup.py bdist_wheel for fastai ... \u001b[?25ldone\n\u001b[?25h  Stored in directory: /tmp/pip-ephem-wheel-cache-blx6fuv8/wheels/25/e9/9b/223e47f59c39f0bd393733db0f7efe8ec6f078d29c32198f9f\nSuccessfully built fastai\n",
          "name": "stdout"
        }
      ]
    },
    {
      "metadata": {
        "trusted": true,
        "_uuid": "9bac1da4181f45fa363d45bdbc3d33aa328e6913"
      },
      "cell_type": "code",
      "source": "!apt update && apt install -y libsm6 libxext6",
      "execution_count": 4,
      "outputs": [
        {
          "output_type": "stream",
          "text": "Ign:1 http://deb.debian.org/debian stretch InRelease\nGet:2 http://security.debian.org/debian-security stretch/updates InRelease [94.3 kB]\nGet:3 http://deb.debian.org/debian stretch-updates InRelease [91.0 kB]\nErr:2 http://security.debian.org/debian-security stretch/updates InRelease\n  Couldn't create temporary file /tmp/apt.conf.dWrdCV for passing config to apt-key\nErr:3 http://deb.debian.org/debian stretch-updates InRelease\n  Couldn't create temporary file /tmp/apt.conf.hSBCsV for passing config to apt-key\nHit:4 http://deb.debian.org/debian stretch Release\nErr:5 http://deb.debian.org/debian stretch Release.gpg\n  Couldn't create temporary file /tmp/apt.conf.Vj8AsX for passing config to apt-key\nReading package lists... Done\nBuilding dependency tree       \nReading state information... Done\n38 packages can be upgraded. Run 'apt list --upgradable' to see them.\nW: An error occurred during the signature verification. The repository is not updated and the previous index files will be used. GPG error: http://security.debian.org/debian-security stretch/updates InRelease: Couldn't create temporary file /tmp/apt.conf.dWrdCV for passing config to apt-key\nW: An error occurred during the signature verification. The repository is not updated and the previous index files will be used. GPG error: http://deb.debian.org/debian stretch-updates InRelease: Couldn't create temporary file /tmp/apt.conf.hSBCsV for passing config to apt-key\nW: An error occurred during the signature verification. The repository is not updated and the previous index files will be used. GPG error: http://deb.debian.org/debian stretch Release: Couldn't create temporary file /tmp/apt.conf.Vj8AsX for passing config to apt-key\nW: Failed to fetch http://deb.debian.org/debian/dists/stretch-updates/InRelease  Couldn't create temporary file /tmp/apt.conf.hSBCsV for passing config to apt-key\nW: Failed to fetch http://security.debian.org/debian-security/dists/stretch/updates/InRelease  Couldn't create temporary file /tmp/apt.conf.dWrdCV for passing config to apt-key\nW: Failed to fetch http://deb.debian.org/debian/dists/stretch/Release.gpg  Couldn't create temporary file /tmp/apt.conf.Vj8AsX for passing config to apt-key\nW: Some index files failed to download. They have been ignored, or old ones used instead.\nReading package lists... Done\nBuilding dependency tree       \nReading state information... Done\nlibsm6 is already the newest version (2:1.2.2-1+b3).\nlibxext6 is already the newest version (2:1.3.3-1+b2).\n0 upgraded, 0 newly installed, 0 to remove and 38 not upgraded.\n",
          "name": "stdout"
        }
      ]
    },
    {
      "metadata": {
        "trusted": true,
        "_uuid": "7912257885c6ad962cda63f075bf83a079578d78"
      },
      "cell_type": "code",
      "source": "from fastai.imports import *\nfrom fastai.structured import *\n\nfrom pandas_summary import DataFrameSummary\nfrom sklearn.ensemble import RandomForestRegressor, RandomForestClassifier\nfrom IPython.display import display\n\nfrom sklearn import metrics",
      "execution_count": 5,
      "outputs": []
    },
    {
      "metadata": {
        "trusted": true,
        "_uuid": "1553fc50ca89000c71ab93fdb9a3e3f84fdd8c50"
      },
      "cell_type": "code",
      "source": "PATH = \"../input/\"",
      "execution_count": 6,
      "outputs": []
    },
    {
      "metadata": {
        "trusted": true,
        "_uuid": "3bb2c655c18aa1b54fba2cc8d425d37eb8adf596"
      },
      "cell_type": "code",
      "source": "!ls {PATH}",
      "execution_count": 7,
      "outputs": [
        {
          "output_type": "stream",
          "text": "Data Dictionary.xlsx  Valid.csv\t\t\t\ttrain\r\nMachine_Appendix.csv  ValidSolution.csv\t\t\ttrainandvalid\r\nTest.csv\t      median_benchmark.csv\t\tvalid\r\nTrainAndValid.csv     random_forest_benchmark_test.csv\r\n",
          "name": "stdout"
        }
      ]
    },
    {
      "metadata": {
        "_uuid": "60e650bdee9ad8be88cb10811015578755f28fc9"
      },
      "cell_type": "markdown",
      "source": "# Introduction to *Blue Book for Bulldozers*"
    },
    {
      "metadata": {
        "_uuid": "9d3292c23abdf11b58850f02555392cd38c98400"
      },
      "cell_type": "markdown",
      "source": "## About..."
    },
    {
      "metadata": {
        "_uuid": "11121596be394c8cedbee7dbfbe53311e9f598ad"
      },
      "cell_type": "markdown",
      "source": "### ...our teaching"
    },
    {
      "metadata": {
        "_uuid": "f805a7c8465c43c4fda332732daee0f7354c0f63"
      },
      "cell_type": "markdown",
      "source": "At fast.ai we have a distinctive [teaching philosophy](http://www.fast.ai/2016/10/08/teaching-philosophy/) of [\"the whole game\"](https://www.amazon.com/Making-Learning-Whole-Principles-Transform/dp/0470633719/ref=sr_1_1?ie=UTF8&qid=1505094653).  This is different from how most traditional math & technical courses are taught, where you have to learn all the individual elements before you can combine them (Harvard professor David Perkins call this *elementitis*), but it is similar to how topics like *driving* and *baseball* are taught.  That is, you can start driving without [knowing how an internal combustion engine works](https://medium.com/towards-data-science/thoughts-after-taking-the-deeplearning-ai-courses-8568f132153), and children begin playing baseball before they learn all the formal rules."
    },
    {
      "metadata": {
        "_uuid": "11bb1e0cbc6380540862d6739f6c3ec9927af911"
      },
      "cell_type": "markdown",
      "source": "### ...our approach to machine learning"
    },
    {
      "metadata": {
        "_uuid": "98b864b8140a971268c250e80f0fd0e9c87437a6"
      },
      "cell_type": "markdown",
      "source": "Most machine learning courses will throw at you dozens of different algorithms, with a brief technical description of the math behind them, and maybe a toy example. You're left confused by the enormous range of techniques shown and have little practical understanding of how to apply them.\n\nThe good news is that modern machine learning can be distilled down to a couple of key techniques that are of very wide applicability. Recent studies have shown that the vast majority of datasets can be best modeled with just two methods:\n\n- *Ensembles of decision trees* (i.e. Random Forests and Gradient Boosting Machines), mainly for structured data (such as you might find in a database table at most companies)\n- *Multi-layered neural networks learnt with SGD* (i.e. shallow and/or deep learning), mainly for unstructured data (such as audio, vision, and natural language)\n\nIn this course we'll be doing a deep dive into random forests, and simple models learnt with SGD. You'll be learning about gradient boosting and deep learning in part 2."
    },
    {
      "metadata": {
        "_uuid": "3cb4ea4b6bff3d41d57250690d797551a0d0f9b9"
      },
      "cell_type": "markdown",
      "source": "### ...this dataset"
    },
    {
      "metadata": {
        "_uuid": "c30037666dc0f823cb224b0b62dcc2adc6f3ee63"
      },
      "cell_type": "markdown",
      "source": "We will be looking at the Blue Book for Bulldozers Kaggle Competition: \"The goal of the contest is to predict the sale price of a particular piece of heavy equiment at auction based on it's usage, equipment type, and configuaration.  The data is sourced from auction result postings and includes information on usage and equipment configurations.\"\n\nThis is a very common type of dataset and prediciton problem, and similar to what you may see in your project or workplace."
    },
    {
      "metadata": {
        "_uuid": "a2650e53030077d3baf8184654a74f6540c4b4f7"
      },
      "cell_type": "markdown",
      "source": "### ...Kaggle Competitions"
    },
    {
      "metadata": {
        "_uuid": "02ede64c1e83f7316294ee48a933648f56be62e4"
      },
      "cell_type": "markdown",
      "source": "Kaggle is an awesome resource for aspiring data scientists or anyone looking to improve their machine learning skills.  There is nothing like being able to get hands-on practice and receiving real-time feedback to help you improve your skills.\n\nKaggle provides:\n\n1. Interesting data sets\n2. Feedback on how you're doing\n3. A leader board to see what's good, what's possible, and what's state-of-art.\n4. Blog posts by winning contestants share useful tips and techniques."
    },
    {
      "metadata": {
        "_uuid": "5f0189251c18287203a4b95def8898ea89259af2"
      },
      "cell_type": "markdown",
      "source": "## The data"
    },
    {
      "metadata": {
        "_uuid": "b49848148c341837151d7456720f0b2bff36d987"
      },
      "cell_type": "markdown",
      "source": "### Look at the data"
    },
    {
      "metadata": {
        "_uuid": "1149856226dac1e27881a3677aeae51702569742"
      },
      "cell_type": "markdown",
      "source": "Kaggle provides info about some of the fields of our dataset; on the [Kaggle Data info](https://www.kaggle.com/c/bluebook-for-bulldozers/data) page they say the following:\n\nFor this competition, you are predicting the sale price of bulldozers sold at auctions. The data for this competition is split into three parts:\n\n- **Train.csv** is the training set, which contains data through the end of 2011.\n- **Valid.csv** is the validation set, which contains data from January 1, 2012 - April 30, 2012 You make predictions on this set throughout the majority of the competition. Your score on this set is used to create the public leaderboard.\n- **Test.csv** is the test set, which won't be released until the last week of the competition. It contains data from May 1, 2012 - November 2012. Your score on the test set determines your final rank for the competition.\n\nThe key fields are in train.csv are:\n\n- SalesID: the uniue identifier of the sale\n- MachineID: the unique identifier of a machine.  A machine can be sold multiple times\n- saleprice: what the machine sold for at auction (only provided in train.csv)\n- saledate: the date of the sale"
    },
    {
      "metadata": {
        "_uuid": "d3469b1c42052c108e3ba200f42c5adbcb54381d"
      },
      "cell_type": "markdown",
      "source": "*Question*\n\nWhat stands out to you from the above description?  What needs to be true of our training and validation sets?"
    },
    {
      "metadata": {
        "trusted": true,
        "_uuid": "41b261c8d694c70e60aaa1a2fabec6d53511e551"
      },
      "cell_type": "code",
      "source": "df_raw = pd.read_csv(f'{PATH}train/Train.csv', low_memory=False, parse_dates=[\"saledate\"])",
      "execution_count": 8,
      "outputs": []
    },
    {
      "metadata": {
        "_uuid": "2ed669a86a8399ca2ee8824887afb9834f809164"
      },
      "cell_type": "markdown",
      "source": "In any sort of data science work, it's **important to look at your data**, to make sure you understand the format, how it's stored, what type of values it holds, etc. Even if you've read descriptions about your data, the actual data may not be what you expect."
    },
    {
      "metadata": {
        "trusted": true,
        "_uuid": "4ed9f5f5e4fe6cdb29a8ca41679a4b0374d7cfe2"
      },
      "cell_type": "code",
      "source": "def display_all(df):\n    with pd.option_context(\"display.max_rows\", 1000, \"display.max_columns\", 1000): \n        display(df)",
      "execution_count": 9,
      "outputs": []
    },
    {
      "metadata": {
        "trusted": true,
        "_uuid": "8cd2ed4942a5bb79bf8592f3c956321ea0d25c8a"
      },
      "cell_type": "code",
      "source": "display_all(df_raw.tail().T)",
      "execution_count": 10,
      "outputs": [
        {
          "output_type": "display_data",
          "data": {
            "text/plain": "                                                                     401120  \\\nSalesID                                                             6333336   \nSalePrice                                                             10500   \nMachineID                                                           1840702   \nModelID                                                               21439   \ndatasource                                                              149   \nauctioneerID                                                              1   \nYearMade                                                               2005   \nMachineHoursCurrentMeter                                                NaN   \nUsageBand                                                               NaN   \nsaledate                                                2011-11-02 00:00:00   \nfiModelDesc                                                           35NX2   \nfiBaseModel                                                              35   \nfiSecondaryDesc                                                          NX   \nfiModelSeries                                                             2   \nfiModelDescriptor                                                       NaN   \nProductSize                                                            Mini   \nfiProductClassDesc        Hydraulic Excavator, Track - 3.0 to 4.0 Metric...   \nstate                                                              Maryland   \nProductGroup                                                            TEX   \nProductGroupDesc                                           Track Excavators   \nDrive_System                                                            NaN   \nEnclosure                                                             EROPS   \nForks                                                                   NaN   \nPad_Type                                                                NaN   \nRide_Control                                                            NaN   \nStick                                                                   NaN   \nTransmission                                                            NaN   \nTurbocharged                                                            NaN   \nBlade_Extension                                                         NaN   \nBlade_Width                                                             NaN   \nEnclosure_Type                                                          NaN   \nEngine_Horsepower                                                       NaN   \nHydraulics                                                        Auxiliary   \nPushblock                                                               NaN   \nRipper                                                                  NaN   \nScarifier                                                               NaN   \nTip_Control                                                             NaN   \nTire_Size                                                               NaN   \nCoupler                                                 None or Unspecified   \nCoupler_System                                                          NaN   \nGrouser_Tracks                                                          NaN   \nHydraulics_Flow                                                         NaN   \nTrack_Type                                                            Steel   \nUndercarriage_Pad_Width                                 None or Unspecified   \nStick_Length                                            None or Unspecified   \nThumb                                                   None or Unspecified   \nPattern_Changer                                         None or Unspecified   \nGrouser_Type                                                         Double   \nBackhoe_Mounting                                                        NaN   \nBlade_Type                                                              NaN   \nTravel_Controls                                                         NaN   \nDifferential_Type                                                       NaN   \nSteering_Controls                                                       NaN   \n\n                                                                     401121  \\\nSalesID                                                             6333337   \nSalePrice                                                             11000   \nMachineID                                                           1830472   \nModelID                                                               21439   \ndatasource                                                              149   \nauctioneerID                                                              1   \nYearMade                                                               2005   \nMachineHoursCurrentMeter                                                NaN   \nUsageBand                                                               NaN   \nsaledate                                                2011-11-02 00:00:00   \nfiModelDesc                                                           35NX2   \nfiBaseModel                                                              35   \nfiSecondaryDesc                                                          NX   \nfiModelSeries                                                             2   \nfiModelDescriptor                                                       NaN   \nProductSize                                                            Mini   \nfiProductClassDesc        Hydraulic Excavator, Track - 3.0 to 4.0 Metric...   \nstate                                                              Maryland   \nProductGroup                                                            TEX   \nProductGroupDesc                                           Track Excavators   \nDrive_System                                                            NaN   \nEnclosure                                                             EROPS   \nForks                                                                   NaN   \nPad_Type                                                                NaN   \nRide_Control                                                            NaN   \nStick                                                                   NaN   \nTransmission                                                            NaN   \nTurbocharged                                                            NaN   \nBlade_Extension                                                         NaN   \nBlade_Width                                                             NaN   \nEnclosure_Type                                                          NaN   \nEngine_Horsepower                                                       NaN   \nHydraulics                                                         Standard   \nPushblock                                                               NaN   \nRipper                                                                  NaN   \nScarifier                                                               NaN   \nTip_Control                                                             NaN   \nTire_Size                                                               NaN   \nCoupler                                                 None or Unspecified   \nCoupler_System                                                          NaN   \nGrouser_Tracks                                                          NaN   \nHydraulics_Flow                                                         NaN   \nTrack_Type                                                            Steel   \nUndercarriage_Pad_Width                                 None or Unspecified   \nStick_Length                                            None or Unspecified   \nThumb                                                   None or Unspecified   \nPattern_Changer                                         None or Unspecified   \nGrouser_Type                                                         Double   \nBackhoe_Mounting                                                        NaN   \nBlade_Type                                                              NaN   \nTravel_Controls                                                         NaN   \nDifferential_Type                                                       NaN   \nSteering_Controls                                                       NaN   \n\n                                                                     401122  \\\nSalesID                                                             6333338   \nSalePrice                                                             11500   \nMachineID                                                           1887659   \nModelID                                                               21439   \ndatasource                                                              149   \nauctioneerID                                                              1   \nYearMade                                                               2005   \nMachineHoursCurrentMeter                                                NaN   \nUsageBand                                                               NaN   \nsaledate                                                2011-11-02 00:00:00   \nfiModelDesc                                                           35NX2   \nfiBaseModel                                                              35   \nfiSecondaryDesc                                                          NX   \nfiModelSeries                                                             2   \nfiModelDescriptor                                                       NaN   \nProductSize                                                            Mini   \nfiProductClassDesc        Hydraulic Excavator, Track - 3.0 to 4.0 Metric...   \nstate                                                              Maryland   \nProductGroup                                                            TEX   \nProductGroupDesc                                           Track Excavators   \nDrive_System                                                            NaN   \nEnclosure                                                             EROPS   \nForks                                                                   NaN   \nPad_Type                                                                NaN   \nRide_Control                                                            NaN   \nStick                                                                   NaN   \nTransmission                                                            NaN   \nTurbocharged                                                            NaN   \nBlade_Extension                                                         NaN   \nBlade_Width                                                             NaN   \nEnclosure_Type                                                          NaN   \nEngine_Horsepower                                                       NaN   \nHydraulics                                                        Auxiliary   \nPushblock                                                               NaN   \nRipper                                                                  NaN   \nScarifier                                                               NaN   \nTip_Control                                                             NaN   \nTire_Size                                                               NaN   \nCoupler                                                 None or Unspecified   \nCoupler_System                                                          NaN   \nGrouser_Tracks                                                          NaN   \nHydraulics_Flow                                                         NaN   \nTrack_Type                                                            Steel   \nUndercarriage_Pad_Width                                 None or Unspecified   \nStick_Length                                            None or Unspecified   \nThumb                                                   None or Unspecified   \nPattern_Changer                                         None or Unspecified   \nGrouser_Type                                                         Double   \nBackhoe_Mounting                                                        NaN   \nBlade_Type                                                              NaN   \nTravel_Controls                                                         NaN   \nDifferential_Type                                                       NaN   \nSteering_Controls                                                       NaN   \n\n                                                                     401123  \\\nSalesID                                                             6333341   \nSalePrice                                                              9000   \nMachineID                                                           1903570   \nModelID                                                               21435   \ndatasource                                                              149   \nauctioneerID                                                              2   \nYearMade                                                               2005   \nMachineHoursCurrentMeter                                                NaN   \nUsageBand                                                               NaN   \nsaledate                                                2011-10-25 00:00:00   \nfiModelDesc                                                            30NX   \nfiBaseModel                                                              30   \nfiSecondaryDesc                                                          NX   \nfiModelSeries                                                           NaN   \nfiModelDescriptor                                                       NaN   \nProductSize                                                            Mini   \nfiProductClassDesc        Hydraulic Excavator, Track - 2.0 to 3.0 Metric...   \nstate                                                               Florida   \nProductGroup                                                            TEX   \nProductGroupDesc                                           Track Excavators   \nDrive_System                                                            NaN   \nEnclosure                                                             EROPS   \nForks                                                                   NaN   \nPad_Type                                                                NaN   \nRide_Control                                                            NaN   \nStick                                                                   NaN   \nTransmission                                                            NaN   \nTurbocharged                                                            NaN   \nBlade_Extension                                                         NaN   \nBlade_Width                                                             NaN   \nEnclosure_Type                                                          NaN   \nEngine_Horsepower                                                       NaN   \nHydraulics                                                         Standard   \nPushblock                                                               NaN   \nRipper                                                                  NaN   \nScarifier                                                               NaN   \nTip_Control                                                             NaN   \nTire_Size                                                               NaN   \nCoupler                                                 None or Unspecified   \nCoupler_System                                                          NaN   \nGrouser_Tracks                                                          NaN   \nHydraulics_Flow                                                         NaN   \nTrack_Type                                                            Steel   \nUndercarriage_Pad_Width                                 None or Unspecified   \nStick_Length                                            None or Unspecified   \nThumb                                                   None or Unspecified   \nPattern_Changer                                         None or Unspecified   \nGrouser_Type                                                         Double   \nBackhoe_Mounting                                                        NaN   \nBlade_Type                                                              NaN   \nTravel_Controls                                                         NaN   \nDifferential_Type                                                       NaN   \nSteering_Controls                                                       NaN   \n\n                                                                     401124  \nSalesID                                                             6333342  \nSalePrice                                                              7750  \nMachineID                                                           1926965  \nModelID                                                               21435  \ndatasource                                                              149  \nauctioneerID                                                              2  \nYearMade                                                               2005  \nMachineHoursCurrentMeter                                                NaN  \nUsageBand                                                               NaN  \nsaledate                                                2011-10-25 00:00:00  \nfiModelDesc                                                            30NX  \nfiBaseModel                                                              30  \nfiSecondaryDesc                                                          NX  \nfiModelSeries                                                           NaN  \nfiModelDescriptor                                                       NaN  \nProductSize                                                            Mini  \nfiProductClassDesc        Hydraulic Excavator, Track - 2.0 to 3.0 Metric...  \nstate                                                               Florida  \nProductGroup                                                            TEX  \nProductGroupDesc                                           Track Excavators  \nDrive_System                                                            NaN  \nEnclosure                                                             EROPS  \nForks                                                                   NaN  \nPad_Type                                                                NaN  \nRide_Control                                                            NaN  \nStick                                                                   NaN  \nTransmission                                                            NaN  \nTurbocharged                                                            NaN  \nBlade_Extension                                                         NaN  \nBlade_Width                                                             NaN  \nEnclosure_Type                                                          NaN  \nEngine_Horsepower                                                       NaN  \nHydraulics                                                         Standard  \nPushblock                                                               NaN  \nRipper                                                                  NaN  \nScarifier                                                               NaN  \nTip_Control                                                             NaN  \nTire_Size                                                               NaN  \nCoupler                                                 None or Unspecified  \nCoupler_System                                                          NaN  \nGrouser_Tracks                                                          NaN  \nHydraulics_Flow                                                         NaN  \nTrack_Type                                                            Steel  \nUndercarriage_Pad_Width                                 None or Unspecified  \nStick_Length                                            None or Unspecified  \nThumb                                                   None or Unspecified  \nPattern_Changer                                         None or Unspecified  \nGrouser_Type                                                         Double  \nBackhoe_Mounting                                                        NaN  \nBlade_Type                                                              NaN  \nTravel_Controls                                                         NaN  \nDifferential_Type                                                       NaN  \nSteering_Controls                                                       NaN  ",
            "text/html": "<div>\n<style scoped>\n    .dataframe tbody tr th:only-of-type {\n        vertical-align: middle;\n    }\n\n    .dataframe tbody tr th {\n        vertical-align: top;\n    }\n\n    .dataframe thead th {\n        text-align: right;\n    }\n</style>\n<table border=\"1\" class=\"dataframe\">\n  <thead>\n    <tr style=\"text-align: right;\">\n      <th></th>\n      <th>401120</th>\n      <th>401121</th>\n      <th>401122</th>\n      <th>401123</th>\n      <th>401124</th>\n    </tr>\n  </thead>\n  <tbody>\n    <tr>\n      <th>SalesID</th>\n      <td>6333336</td>\n      <td>6333337</td>\n      <td>6333338</td>\n      <td>6333341</td>\n      <td>6333342</td>\n    </tr>\n    <tr>\n      <th>SalePrice</th>\n      <td>10500</td>\n      <td>11000</td>\n      <td>11500</td>\n      <td>9000</td>\n      <td>7750</td>\n    </tr>\n    <tr>\n      <th>MachineID</th>\n      <td>1840702</td>\n      <td>1830472</td>\n      <td>1887659</td>\n      <td>1903570</td>\n      <td>1926965</td>\n    </tr>\n    <tr>\n      <th>ModelID</th>\n      <td>21439</td>\n      <td>21439</td>\n      <td>21439</td>\n      <td>21435</td>\n      <td>21435</td>\n    </tr>\n    <tr>\n      <th>datasource</th>\n      <td>149</td>\n      <td>149</td>\n      <td>149</td>\n      <td>149</td>\n      <td>149</td>\n    </tr>\n    <tr>\n      <th>auctioneerID</th>\n      <td>1</td>\n      <td>1</td>\n      <td>1</td>\n      <td>2</td>\n      <td>2</td>\n    </tr>\n    <tr>\n      <th>YearMade</th>\n      <td>2005</td>\n      <td>2005</td>\n      <td>2005</td>\n      <td>2005</td>\n      <td>2005</td>\n    </tr>\n    <tr>\n      <th>MachineHoursCurrentMeter</th>\n      <td>NaN</td>\n      <td>NaN</td>\n      <td>NaN</td>\n      <td>NaN</td>\n      <td>NaN</td>\n    </tr>\n    <tr>\n      <th>UsageBand</th>\n      <td>NaN</td>\n      <td>NaN</td>\n      <td>NaN</td>\n      <td>NaN</td>\n      <td>NaN</td>\n    </tr>\n    <tr>\n      <th>saledate</th>\n      <td>2011-11-02 00:00:00</td>\n      <td>2011-11-02 00:00:00</td>\n      <td>2011-11-02 00:00:00</td>\n      <td>2011-10-25 00:00:00</td>\n      <td>2011-10-25 00:00:00</td>\n    </tr>\n    <tr>\n      <th>fiModelDesc</th>\n      <td>35NX2</td>\n      <td>35NX2</td>\n      <td>35NX2</td>\n      <td>30NX</td>\n      <td>30NX</td>\n    </tr>\n    <tr>\n      <th>fiBaseModel</th>\n      <td>35</td>\n      <td>35</td>\n      <td>35</td>\n      <td>30</td>\n      <td>30</td>\n    </tr>\n    <tr>\n      <th>fiSecondaryDesc</th>\n      <td>NX</td>\n      <td>NX</td>\n      <td>NX</td>\n      <td>NX</td>\n      <td>NX</td>\n    </tr>\n    <tr>\n      <th>fiModelSeries</th>\n      <td>2</td>\n      <td>2</td>\n      <td>2</td>\n      <td>NaN</td>\n      <td>NaN</td>\n    </tr>\n    <tr>\n      <th>fiModelDescriptor</th>\n      <td>NaN</td>\n      <td>NaN</td>\n      <td>NaN</td>\n      <td>NaN</td>\n      <td>NaN</td>\n    </tr>\n    <tr>\n      <th>ProductSize</th>\n      <td>Mini</td>\n      <td>Mini</td>\n      <td>Mini</td>\n      <td>Mini</td>\n      <td>Mini</td>\n    </tr>\n    <tr>\n      <th>fiProductClassDesc</th>\n      <td>Hydraulic Excavator, Track - 3.0 to 4.0 Metric...</td>\n      <td>Hydraulic Excavator, Track - 3.0 to 4.0 Metric...</td>\n      <td>Hydraulic Excavator, Track - 3.0 to 4.0 Metric...</td>\n      <td>Hydraulic Excavator, Track - 2.0 to 3.0 Metric...</td>\n      <td>Hydraulic Excavator, Track - 2.0 to 3.0 Metric...</td>\n    </tr>\n    <tr>\n      <th>state</th>\n      <td>Maryland</td>\n      <td>Maryland</td>\n      <td>Maryland</td>\n      <td>Florida</td>\n      <td>Florida</td>\n    </tr>\n    <tr>\n      <th>ProductGroup</th>\n      <td>TEX</td>\n      <td>TEX</td>\n      <td>TEX</td>\n      <td>TEX</td>\n      <td>TEX</td>\n    </tr>\n    <tr>\n      <th>ProductGroupDesc</th>\n      <td>Track Excavators</td>\n      <td>Track Excavators</td>\n      <td>Track Excavators</td>\n      <td>Track Excavators</td>\n      <td>Track Excavators</td>\n    </tr>\n    <tr>\n      <th>Drive_System</th>\n      <td>NaN</td>\n      <td>NaN</td>\n      <td>NaN</td>\n      <td>NaN</td>\n      <td>NaN</td>\n    </tr>\n    <tr>\n      <th>Enclosure</th>\n      <td>EROPS</td>\n      <td>EROPS</td>\n      <td>EROPS</td>\n      <td>EROPS</td>\n      <td>EROPS</td>\n    </tr>\n    <tr>\n      <th>Forks</th>\n      <td>NaN</td>\n      <td>NaN</td>\n      <td>NaN</td>\n      <td>NaN</td>\n      <td>NaN</td>\n    </tr>\n    <tr>\n      <th>Pad_Type</th>\n      <td>NaN</td>\n      <td>NaN</td>\n      <td>NaN</td>\n      <td>NaN</td>\n      <td>NaN</td>\n    </tr>\n    <tr>\n      <th>Ride_Control</th>\n      <td>NaN</td>\n      <td>NaN</td>\n      <td>NaN</td>\n      <td>NaN</td>\n      <td>NaN</td>\n    </tr>\n    <tr>\n      <th>Stick</th>\n      <td>NaN</td>\n      <td>NaN</td>\n      <td>NaN</td>\n      <td>NaN</td>\n      <td>NaN</td>\n    </tr>\n    <tr>\n      <th>Transmission</th>\n      <td>NaN</td>\n      <td>NaN</td>\n      <td>NaN</td>\n      <td>NaN</td>\n      <td>NaN</td>\n    </tr>\n    <tr>\n      <th>Turbocharged</th>\n      <td>NaN</td>\n      <td>NaN</td>\n      <td>NaN</td>\n      <td>NaN</td>\n      <td>NaN</td>\n    </tr>\n    <tr>\n      <th>Blade_Extension</th>\n      <td>NaN</td>\n      <td>NaN</td>\n      <td>NaN</td>\n      <td>NaN</td>\n      <td>NaN</td>\n    </tr>\n    <tr>\n      <th>Blade_Width</th>\n      <td>NaN</td>\n      <td>NaN</td>\n      <td>NaN</td>\n      <td>NaN</td>\n      <td>NaN</td>\n    </tr>\n    <tr>\n      <th>Enclosure_Type</th>\n      <td>NaN</td>\n      <td>NaN</td>\n      <td>NaN</td>\n      <td>NaN</td>\n      <td>NaN</td>\n    </tr>\n    <tr>\n      <th>Engine_Horsepower</th>\n      <td>NaN</td>\n      <td>NaN</td>\n      <td>NaN</td>\n      <td>NaN</td>\n      <td>NaN</td>\n    </tr>\n    <tr>\n      <th>Hydraulics</th>\n      <td>Auxiliary</td>\n      <td>Standard</td>\n      <td>Auxiliary</td>\n      <td>Standard</td>\n      <td>Standard</td>\n    </tr>\n    <tr>\n      <th>Pushblock</th>\n      <td>NaN</td>\n      <td>NaN</td>\n      <td>NaN</td>\n      <td>NaN</td>\n      <td>NaN</td>\n    </tr>\n    <tr>\n      <th>Ripper</th>\n      <td>NaN</td>\n      <td>NaN</td>\n      <td>NaN</td>\n      <td>NaN</td>\n      <td>NaN</td>\n    </tr>\n    <tr>\n      <th>Scarifier</th>\n      <td>NaN</td>\n      <td>NaN</td>\n      <td>NaN</td>\n      <td>NaN</td>\n      <td>NaN</td>\n    </tr>\n    <tr>\n      <th>Tip_Control</th>\n      <td>NaN</td>\n      <td>NaN</td>\n      <td>NaN</td>\n      <td>NaN</td>\n      <td>NaN</td>\n    </tr>\n    <tr>\n      <th>Tire_Size</th>\n      <td>NaN</td>\n      <td>NaN</td>\n      <td>NaN</td>\n      <td>NaN</td>\n      <td>NaN</td>\n    </tr>\n    <tr>\n      <th>Coupler</th>\n      <td>None or Unspecified</td>\n      <td>None or Unspecified</td>\n      <td>None or Unspecified</td>\n      <td>None or Unspecified</td>\n      <td>None or Unspecified</td>\n    </tr>\n    <tr>\n      <th>Coupler_System</th>\n      <td>NaN</td>\n      <td>NaN</td>\n      <td>NaN</td>\n      <td>NaN</td>\n      <td>NaN</td>\n    </tr>\n    <tr>\n      <th>Grouser_Tracks</th>\n      <td>NaN</td>\n      <td>NaN</td>\n      <td>NaN</td>\n      <td>NaN</td>\n      <td>NaN</td>\n    </tr>\n    <tr>\n      <th>Hydraulics_Flow</th>\n      <td>NaN</td>\n      <td>NaN</td>\n      <td>NaN</td>\n      <td>NaN</td>\n      <td>NaN</td>\n    </tr>\n    <tr>\n      <th>Track_Type</th>\n      <td>Steel</td>\n      <td>Steel</td>\n      <td>Steel</td>\n      <td>Steel</td>\n      <td>Steel</td>\n    </tr>\n    <tr>\n      <th>Undercarriage_Pad_Width</th>\n      <td>None or Unspecified</td>\n      <td>None or Unspecified</td>\n      <td>None or Unspecified</td>\n      <td>None or Unspecified</td>\n      <td>None or Unspecified</td>\n    </tr>\n    <tr>\n      <th>Stick_Length</th>\n      <td>None or Unspecified</td>\n      <td>None or Unspecified</td>\n      <td>None or Unspecified</td>\n      <td>None or Unspecified</td>\n      <td>None or Unspecified</td>\n    </tr>\n    <tr>\n      <th>Thumb</th>\n      <td>None or Unspecified</td>\n      <td>None or Unspecified</td>\n      <td>None or Unspecified</td>\n      <td>None or Unspecified</td>\n      <td>None or Unspecified</td>\n    </tr>\n    <tr>\n      <th>Pattern_Changer</th>\n      <td>None or Unspecified</td>\n      <td>None or Unspecified</td>\n      <td>None or Unspecified</td>\n      <td>None or Unspecified</td>\n      <td>None or Unspecified</td>\n    </tr>\n    <tr>\n      <th>Grouser_Type</th>\n      <td>Double</td>\n      <td>Double</td>\n      <td>Double</td>\n      <td>Double</td>\n      <td>Double</td>\n    </tr>\n    <tr>\n      <th>Backhoe_Mounting</th>\n      <td>NaN</td>\n      <td>NaN</td>\n      <td>NaN</td>\n      <td>NaN</td>\n      <td>NaN</td>\n    </tr>\n    <tr>\n      <th>Blade_Type</th>\n      <td>NaN</td>\n      <td>NaN</td>\n      <td>NaN</td>\n      <td>NaN</td>\n      <td>NaN</td>\n    </tr>\n    <tr>\n      <th>Travel_Controls</th>\n      <td>NaN</td>\n      <td>NaN</td>\n      <td>NaN</td>\n      <td>NaN</td>\n      <td>NaN</td>\n    </tr>\n    <tr>\n      <th>Differential_Type</th>\n      <td>NaN</td>\n      <td>NaN</td>\n      <td>NaN</td>\n      <td>NaN</td>\n      <td>NaN</td>\n    </tr>\n    <tr>\n      <th>Steering_Controls</th>\n      <td>NaN</td>\n      <td>NaN</td>\n      <td>NaN</td>\n      <td>NaN</td>\n      <td>NaN</td>\n    </tr>\n  </tbody>\n</table>\n</div>"
          },
          "metadata": {}
        }
      ]
    },
    {
      "metadata": {
        "trusted": true,
        "_uuid": "cd4243ff25dbe4528b2011b8358123999199398b"
      },
      "cell_type": "code",
      "source": "display_all(df_raw.describe(include='all').T)",
      "execution_count": 11,
      "outputs": [
        {
          "output_type": "display_data",
          "data": {
            "text/plain": "                           count unique  \\\nSalesID                   401125    NaN   \nSalePrice                 401125    NaN   \nMachineID                 401125    NaN   \nModelID                   401125    NaN   \ndatasource                401125    NaN   \nauctioneerID              380989    NaN   \nYearMade                  401125    NaN   \nMachineHoursCurrentMeter  142765    NaN   \nUsageBand                  69639      3   \nsaledate                  401125   3919   \nfiModelDesc               401125   4999   \nfiBaseModel               401125   1950   \nfiSecondaryDesc           263934    175   \nfiModelSeries              56908    122   \nfiModelDescriptor          71919    139   \nProductSize               190350      6   \nfiProductClassDesc        401125     74   \nstate                     401125     53   \nProductGroup              401125      6   \nProductGroupDesc          401125      6   \nDrive_System              104361      4   \nEnclosure                 400800      6   \nForks                     192077      2   \nPad_Type                   79134      4   \nRide_Control              148606      3   \nStick                      79134      2   \nTransmission              183230      8   \nTurbocharged               79134      2   \nBlade_Extension            25219      2   \nBlade_Width                25219      6   \nEnclosure_Type             25219      3   \nEngine_Horsepower          25219      2   \nHydraulics                320570     12   \nPushblock                  25219      2   \nRipper                    104137      4   \nScarifier                  25230      2   \nTip_Control                25219      3   \nTire_Size                  94718     17   \nCoupler                   213952      3   \nCoupler_System             43458      2   \nGrouser_Tracks             43362      2   \nHydraulics_Flow            43362      3   \nTrack_Type                 99153      2   \nUndercarriage_Pad_Width    99872     19   \nStick_Length               99218     29   \nThumb                      99288      3   \nPattern_Changer            99218      3   \nGrouser_Type               99153      3   \nBackhoe_Mounting           78672      2   \nBlade_Type                 79833     10   \nTravel_Controls            79834      7   \nDifferential_Type          69411      4   \nSteering_Controls          69369      5   \n\n                                                                        top  \\\nSalesID                                                                 NaN   \nSalePrice                                                               NaN   \nMachineID                                                               NaN   \nModelID                                                                 NaN   \ndatasource                                                              NaN   \nauctioneerID                                                            NaN   \nYearMade                                                                NaN   \nMachineHoursCurrentMeter                                                NaN   \nUsageBand                                                            Medium   \nsaledate                                                2009-02-16 00:00:00   \nfiModelDesc                                                            310G   \nfiBaseModel                                                             580   \nfiSecondaryDesc                                                           C   \nfiModelSeries                                                            II   \nfiModelDescriptor                                                         L   \nProductSize                                                          Medium   \nfiProductClassDesc        Backhoe Loader - 14.0 to 15.0 Ft Standard Digg...   \nstate                                                               Florida   \nProductGroup                                                            TEX   \nProductGroupDesc                                           Track Excavators   \nDrive_System                                                Two Wheel Drive   \nEnclosure                                                             OROPS   \nForks                                                   None or Unspecified   \nPad_Type                                                None or Unspecified   \nRide_Control                                                             No   \nStick                                                              Standard   \nTransmission                                                       Standard   \nTurbocharged                                            None or Unspecified   \nBlade_Extension                                         None or Unspecified   \nBlade_Width                                                             14'   \nEnclosure_Type                                          None or Unspecified   \nEngine_Horsepower                                                        No   \nHydraulics                                                          2 Valve   \nPushblock                                               None or Unspecified   \nRipper                                                  None or Unspecified   \nScarifier                                               None or Unspecified   \nTip_Control                                             None or Unspecified   \nTire_Size                                               None or Unspecified   \nCoupler                                                 None or Unspecified   \nCoupler_System                                          None or Unspecified   \nGrouser_Tracks                                          None or Unspecified   \nHydraulics_Flow                                                    Standard   \nTrack_Type                                                            Steel   \nUndercarriage_Pad_Width                                 None or Unspecified   \nStick_Length                                            None or Unspecified   \nThumb                                                   None or Unspecified   \nPattern_Changer                                         None or Unspecified   \nGrouser_Type                                                         Double   \nBackhoe_Mounting                                        None or Unspecified   \nBlade_Type                                                              PAT   \nTravel_Controls                                         None or Unspecified   \nDifferential_Type                                                  Standard   \nSteering_Controls                                              Conventional   \n\n                            freq                first                 last  \\\nSalesID                      NaN                  NaN                  NaN   \nSalePrice                    NaN                  NaN                  NaN   \nMachineID                    NaN                  NaN                  NaN   \nModelID                      NaN                  NaN                  NaN   \ndatasource                   NaN                  NaN                  NaN   \nauctioneerID                 NaN                  NaN                  NaN   \nYearMade                     NaN                  NaN                  NaN   \nMachineHoursCurrentMeter     NaN                  NaN                  NaN   \nUsageBand                  33985                  NaN                  NaN   \nsaledate                    1932  1989-01-17 00:00:00  2011-12-30 00:00:00   \nfiModelDesc                 5039                  NaN                  NaN   \nfiBaseModel                19798                  NaN                  NaN   \nfiSecondaryDesc            43235                  NaN                  NaN   \nfiModelSeries              13202                  NaN                  NaN   \nfiModelDescriptor          15875                  NaN                  NaN   \nProductSize                62274                  NaN                  NaN   \nfiProductClassDesc         56166                  NaN                  NaN   \nstate                      63944                  NaN                  NaN   \nProductGroup              101167                  NaN                  NaN   \nProductGroupDesc          101167                  NaN                  NaN   \nDrive_System               46139                  NaN                  NaN   \nEnclosure                 173932                  NaN                  NaN   \nForks                     178300                  NaN                  NaN   \nPad_Type                   70614                  NaN                  NaN   \nRide_Control               77685                  NaN                  NaN   \nStick                      48829                  NaN                  NaN   \nTransmission              140328                  NaN                  NaN   \nTurbocharged               75211                  NaN                  NaN   \nBlade_Extension            24692                  NaN                  NaN   \nBlade_Width                 9615                  NaN                  NaN   \nEnclosure_Type             21923                  NaN                  NaN   \nEngine_Horsepower          23937                  NaN                  NaN   \nHydraulics                141404                  NaN                  NaN   \nPushblock                  19463                  NaN                  NaN   \nRipper                     83452                  NaN                  NaN   \nScarifier                  12719                  NaN                  NaN   \nTip_Control                16207                  NaN                  NaN   \nTire_Size                  46339                  NaN                  NaN   \nCoupler                   184582                  NaN                  NaN   \nCoupler_System             40430                  NaN                  NaN   \nGrouser_Tracks             40515                  NaN                  NaN   \nHydraulics_Flow            42784                  NaN                  NaN   \nTrack_Type                 84880                  NaN                  NaN   \nUndercarriage_Pad_Width    79651                  NaN                  NaN   \nStick_Length               78820                  NaN                  NaN   \nThumb                      83093                  NaN                  NaN   \nPattern_Changer            90255                  NaN                  NaN   \nGrouser_Type               84653                  NaN                  NaN   \nBackhoe_Mounting           78652                  NaN                  NaN   \nBlade_Type                 38612                  NaN                  NaN   \nTravel_Controls            69923                  NaN                  NaN   \nDifferential_Type          68073                  NaN                  NaN   \nSteering_Controls          68679                  NaN                  NaN   \n\n                                 mean      std          min          25%  \\\nSalesID                   1.91971e+06   909021  1.13925e+06  1.41837e+06   \nSalePrice                     31099.7  23036.9         4750        14500   \nMachineID                  1.2179e+06   440992            0   1.0887e+06   \nModelID                        6889.7  6221.78           28         3259   \ndatasource                    134.666  8.96224          121          132   \nauctioneerID                  6.55604  16.9768            0            1   \nYearMade                      1899.16  291.797         1000         1985   \nMachineHoursCurrentMeter      3457.96  27590.3            0            0   \nUsageBand                         NaN      NaN          NaN          NaN   \nsaledate                          NaN      NaN          NaN          NaN   \nfiModelDesc                       NaN      NaN          NaN          NaN   \nfiBaseModel                       NaN      NaN          NaN          NaN   \nfiSecondaryDesc                   NaN      NaN          NaN          NaN   \nfiModelSeries                     NaN      NaN          NaN          NaN   \nfiModelDescriptor                 NaN      NaN          NaN          NaN   \nProductSize                       NaN      NaN          NaN          NaN   \nfiProductClassDesc                NaN      NaN          NaN          NaN   \nstate                             NaN      NaN          NaN          NaN   \nProductGroup                      NaN      NaN          NaN          NaN   \nProductGroupDesc                  NaN      NaN          NaN          NaN   \nDrive_System                      NaN      NaN          NaN          NaN   \nEnclosure                         NaN      NaN          NaN          NaN   \nForks                             NaN      NaN          NaN          NaN   \nPad_Type                          NaN      NaN          NaN          NaN   \nRide_Control                      NaN      NaN          NaN          NaN   \nStick                             NaN      NaN          NaN          NaN   \nTransmission                      NaN      NaN          NaN          NaN   \nTurbocharged                      NaN      NaN          NaN          NaN   \nBlade_Extension                   NaN      NaN          NaN          NaN   \nBlade_Width                       NaN      NaN          NaN          NaN   \nEnclosure_Type                    NaN      NaN          NaN          NaN   \nEngine_Horsepower                 NaN      NaN          NaN          NaN   \nHydraulics                        NaN      NaN          NaN          NaN   \nPushblock                         NaN      NaN          NaN          NaN   \nRipper                            NaN      NaN          NaN          NaN   \nScarifier                         NaN      NaN          NaN          NaN   \nTip_Control                       NaN      NaN          NaN          NaN   \nTire_Size                         NaN      NaN          NaN          NaN   \nCoupler                           NaN      NaN          NaN          NaN   \nCoupler_System                    NaN      NaN          NaN          NaN   \nGrouser_Tracks                    NaN      NaN          NaN          NaN   \nHydraulics_Flow                   NaN      NaN          NaN          NaN   \nTrack_Type                        NaN      NaN          NaN          NaN   \nUndercarriage_Pad_Width           NaN      NaN          NaN          NaN   \nStick_Length                      NaN      NaN          NaN          NaN   \nThumb                             NaN      NaN          NaN          NaN   \nPattern_Changer                   NaN      NaN          NaN          NaN   \nGrouser_Type                      NaN      NaN          NaN          NaN   \nBackhoe_Mounting                  NaN      NaN          NaN          NaN   \nBlade_Type                        NaN      NaN          NaN          NaN   \nTravel_Controls                   NaN      NaN          NaN          NaN   \nDifferential_Type                 NaN      NaN          NaN          NaN   \nSteering_Controls                 NaN      NaN          NaN          NaN   \n\n                                  50%          75%          max  \nSalesID                   1.63942e+06  2.24271e+06  6.33334e+06  \nSalePrice                       24000        40000       142000  \nMachineID                 1.27949e+06  1.46807e+06  2.48633e+06  \nModelID                          4604         8724        37198  \ndatasource                        132          136          172  \nauctioneerID                        2            4           99  \nYearMade                         1995         2000         2013  \nMachineHoursCurrentMeter            0         3025   2.4833e+06  \nUsageBand                         NaN          NaN          NaN  \nsaledate                          NaN          NaN          NaN  \nfiModelDesc                       NaN          NaN          NaN  \nfiBaseModel                       NaN          NaN          NaN  \nfiSecondaryDesc                   NaN          NaN          NaN  \nfiModelSeries                     NaN          NaN          NaN  \nfiModelDescriptor                 NaN          NaN          NaN  \nProductSize                       NaN          NaN          NaN  \nfiProductClassDesc                NaN          NaN          NaN  \nstate                             NaN          NaN          NaN  \nProductGroup                      NaN          NaN          NaN  \nProductGroupDesc                  NaN          NaN          NaN  \nDrive_System                      NaN          NaN          NaN  \nEnclosure                         NaN          NaN          NaN  \nForks                             NaN          NaN          NaN  \nPad_Type                          NaN          NaN          NaN  \nRide_Control                      NaN          NaN          NaN  \nStick                             NaN          NaN          NaN  \nTransmission                      NaN          NaN          NaN  \nTurbocharged                      NaN          NaN          NaN  \nBlade_Extension                   NaN          NaN          NaN  \nBlade_Width                       NaN          NaN          NaN  \nEnclosure_Type                    NaN          NaN          NaN  \nEngine_Horsepower                 NaN          NaN          NaN  \nHydraulics                        NaN          NaN          NaN  \nPushblock                         NaN          NaN          NaN  \nRipper                            NaN          NaN          NaN  \nScarifier                         NaN          NaN          NaN  \nTip_Control                       NaN          NaN          NaN  \nTire_Size                         NaN          NaN          NaN  \nCoupler                           NaN          NaN          NaN  \nCoupler_System                    NaN          NaN          NaN  \nGrouser_Tracks                    NaN          NaN          NaN  \nHydraulics_Flow                   NaN          NaN          NaN  \nTrack_Type                        NaN          NaN          NaN  \nUndercarriage_Pad_Width           NaN          NaN          NaN  \nStick_Length                      NaN          NaN          NaN  \nThumb                             NaN          NaN          NaN  \nPattern_Changer                   NaN          NaN          NaN  \nGrouser_Type                      NaN          NaN          NaN  \nBackhoe_Mounting                  NaN          NaN          NaN  \nBlade_Type                        NaN          NaN          NaN  \nTravel_Controls                   NaN          NaN          NaN  \nDifferential_Type                 NaN          NaN          NaN  \nSteering_Controls                 NaN          NaN          NaN  ",
            "text/html": "<div>\n<style scoped>\n    .dataframe tbody tr th:only-of-type {\n        vertical-align: middle;\n    }\n\n    .dataframe tbody tr th {\n        vertical-align: top;\n    }\n\n    .dataframe thead th {\n        text-align: right;\n    }\n</style>\n<table border=\"1\" class=\"dataframe\">\n  <thead>\n    <tr style=\"text-align: right;\">\n      <th></th>\n      <th>count</th>\n      <th>unique</th>\n      <th>top</th>\n      <th>freq</th>\n      <th>first</th>\n      <th>last</th>\n      <th>mean</th>\n      <th>std</th>\n      <th>min</th>\n      <th>25%</th>\n      <th>50%</th>\n      <th>75%</th>\n      <th>max</th>\n    </tr>\n  </thead>\n  <tbody>\n    <tr>\n      <th>SalesID</th>\n      <td>401125</td>\n      <td>NaN</td>\n      <td>NaN</td>\n      <td>NaN</td>\n      <td>NaN</td>\n      <td>NaN</td>\n      <td>1.91971e+06</td>\n      <td>909021</td>\n      <td>1.13925e+06</td>\n      <td>1.41837e+06</td>\n      <td>1.63942e+06</td>\n      <td>2.24271e+06</td>\n      <td>6.33334e+06</td>\n    </tr>\n    <tr>\n      <th>SalePrice</th>\n      <td>401125</td>\n      <td>NaN</td>\n      <td>NaN</td>\n      <td>NaN</td>\n      <td>NaN</td>\n      <td>NaN</td>\n      <td>31099.7</td>\n      <td>23036.9</td>\n      <td>4750</td>\n      <td>14500</td>\n      <td>24000</td>\n      <td>40000</td>\n      <td>142000</td>\n    </tr>\n    <tr>\n      <th>MachineID</th>\n      <td>401125</td>\n      <td>NaN</td>\n      <td>NaN</td>\n      <td>NaN</td>\n      <td>NaN</td>\n      <td>NaN</td>\n      <td>1.2179e+06</td>\n      <td>440992</td>\n      <td>0</td>\n      <td>1.0887e+06</td>\n      <td>1.27949e+06</td>\n      <td>1.46807e+06</td>\n      <td>2.48633e+06</td>\n    </tr>\n    <tr>\n      <th>ModelID</th>\n      <td>401125</td>\n      <td>NaN</td>\n      <td>NaN</td>\n      <td>NaN</td>\n      <td>NaN</td>\n      <td>NaN</td>\n      <td>6889.7</td>\n      <td>6221.78</td>\n      <td>28</td>\n      <td>3259</td>\n      <td>4604</td>\n      <td>8724</td>\n      <td>37198</td>\n    </tr>\n    <tr>\n      <th>datasource</th>\n      <td>401125</td>\n      <td>NaN</td>\n      <td>NaN</td>\n      <td>NaN</td>\n      <td>NaN</td>\n      <td>NaN</td>\n      <td>134.666</td>\n      <td>8.96224</td>\n      <td>121</td>\n      <td>132</td>\n      <td>132</td>\n      <td>136</td>\n      <td>172</td>\n    </tr>\n    <tr>\n      <th>auctioneerID</th>\n      <td>380989</td>\n      <td>NaN</td>\n      <td>NaN</td>\n      <td>NaN</td>\n      <td>NaN</td>\n      <td>NaN</td>\n      <td>6.55604</td>\n      <td>16.9768</td>\n      <td>0</td>\n      <td>1</td>\n      <td>2</td>\n      <td>4</td>\n      <td>99</td>\n    </tr>\n    <tr>\n      <th>YearMade</th>\n      <td>401125</td>\n      <td>NaN</td>\n      <td>NaN</td>\n      <td>NaN</td>\n      <td>NaN</td>\n      <td>NaN</td>\n      <td>1899.16</td>\n      <td>291.797</td>\n      <td>1000</td>\n      <td>1985</td>\n      <td>1995</td>\n      <td>2000</td>\n      <td>2013</td>\n    </tr>\n    <tr>\n      <th>MachineHoursCurrentMeter</th>\n      <td>142765</td>\n      <td>NaN</td>\n      <td>NaN</td>\n      <td>NaN</td>\n      <td>NaN</td>\n      <td>NaN</td>\n      <td>3457.96</td>\n      <td>27590.3</td>\n      <td>0</td>\n      <td>0</td>\n      <td>0</td>\n      <td>3025</td>\n      <td>2.4833e+06</td>\n    </tr>\n    <tr>\n      <th>UsageBand</th>\n      <td>69639</td>\n      <td>3</td>\n      <td>Medium</td>\n      <td>33985</td>\n      <td>NaN</td>\n      <td>NaN</td>\n      <td>NaN</td>\n      <td>NaN</td>\n      <td>NaN</td>\n      <td>NaN</td>\n      <td>NaN</td>\n      <td>NaN</td>\n      <td>NaN</td>\n    </tr>\n    <tr>\n      <th>saledate</th>\n      <td>401125</td>\n      <td>3919</td>\n      <td>2009-02-16 00:00:00</td>\n      <td>1932</td>\n      <td>1989-01-17 00:00:00</td>\n      <td>2011-12-30 00:00:00</td>\n      <td>NaN</td>\n      <td>NaN</td>\n      <td>NaN</td>\n      <td>NaN</td>\n      <td>NaN</td>\n      <td>NaN</td>\n      <td>NaN</td>\n    </tr>\n    <tr>\n      <th>fiModelDesc</th>\n      <td>401125</td>\n      <td>4999</td>\n      <td>310G</td>\n      <td>5039</td>\n      <td>NaN</td>\n      <td>NaN</td>\n      <td>NaN</td>\n      <td>NaN</td>\n      <td>NaN</td>\n      <td>NaN</td>\n      <td>NaN</td>\n      <td>NaN</td>\n      <td>NaN</td>\n    </tr>\n    <tr>\n      <th>fiBaseModel</th>\n      <td>401125</td>\n      <td>1950</td>\n      <td>580</td>\n      <td>19798</td>\n      <td>NaN</td>\n      <td>NaN</td>\n      <td>NaN</td>\n      <td>NaN</td>\n      <td>NaN</td>\n      <td>NaN</td>\n      <td>NaN</td>\n      <td>NaN</td>\n      <td>NaN</td>\n    </tr>\n    <tr>\n      <th>fiSecondaryDesc</th>\n      <td>263934</td>\n      <td>175</td>\n      <td>C</td>\n      <td>43235</td>\n      <td>NaN</td>\n      <td>NaN</td>\n      <td>NaN</td>\n      <td>NaN</td>\n      <td>NaN</td>\n      <td>NaN</td>\n      <td>NaN</td>\n      <td>NaN</td>\n      <td>NaN</td>\n    </tr>\n    <tr>\n      <th>fiModelSeries</th>\n      <td>56908</td>\n      <td>122</td>\n      <td>II</td>\n      <td>13202</td>\n      <td>NaN</td>\n      <td>NaN</td>\n      <td>NaN</td>\n      <td>NaN</td>\n      <td>NaN</td>\n      <td>NaN</td>\n      <td>NaN</td>\n      <td>NaN</td>\n      <td>NaN</td>\n    </tr>\n    <tr>\n      <th>fiModelDescriptor</th>\n      <td>71919</td>\n      <td>139</td>\n      <td>L</td>\n      <td>15875</td>\n      <td>NaN</td>\n      <td>NaN</td>\n      <td>NaN</td>\n      <td>NaN</td>\n      <td>NaN</td>\n      <td>NaN</td>\n      <td>NaN</td>\n      <td>NaN</td>\n      <td>NaN</td>\n    </tr>\n    <tr>\n      <th>ProductSize</th>\n      <td>190350</td>\n      <td>6</td>\n      <td>Medium</td>\n      <td>62274</td>\n      <td>NaN</td>\n      <td>NaN</td>\n      <td>NaN</td>\n      <td>NaN</td>\n      <td>NaN</td>\n      <td>NaN</td>\n      <td>NaN</td>\n      <td>NaN</td>\n      <td>NaN</td>\n    </tr>\n    <tr>\n      <th>fiProductClassDesc</th>\n      <td>401125</td>\n      <td>74</td>\n      <td>Backhoe Loader - 14.0 to 15.0 Ft Standard Digg...</td>\n      <td>56166</td>\n      <td>NaN</td>\n      <td>NaN</td>\n      <td>NaN</td>\n      <td>NaN</td>\n      <td>NaN</td>\n      <td>NaN</td>\n      <td>NaN</td>\n      <td>NaN</td>\n      <td>NaN</td>\n    </tr>\n    <tr>\n      <th>state</th>\n      <td>401125</td>\n      <td>53</td>\n      <td>Florida</td>\n      <td>63944</td>\n      <td>NaN</td>\n      <td>NaN</td>\n      <td>NaN</td>\n      <td>NaN</td>\n      <td>NaN</td>\n      <td>NaN</td>\n      <td>NaN</td>\n      <td>NaN</td>\n      <td>NaN</td>\n    </tr>\n    <tr>\n      <th>ProductGroup</th>\n      <td>401125</td>\n      <td>6</td>\n      <td>TEX</td>\n      <td>101167</td>\n      <td>NaN</td>\n      <td>NaN</td>\n      <td>NaN</td>\n      <td>NaN</td>\n      <td>NaN</td>\n      <td>NaN</td>\n      <td>NaN</td>\n      <td>NaN</td>\n      <td>NaN</td>\n    </tr>\n    <tr>\n      <th>ProductGroupDesc</th>\n      <td>401125</td>\n      <td>6</td>\n      <td>Track Excavators</td>\n      <td>101167</td>\n      <td>NaN</td>\n      <td>NaN</td>\n      <td>NaN</td>\n      <td>NaN</td>\n      <td>NaN</td>\n      <td>NaN</td>\n      <td>NaN</td>\n      <td>NaN</td>\n      <td>NaN</td>\n    </tr>\n    <tr>\n      <th>Drive_System</th>\n      <td>104361</td>\n      <td>4</td>\n      <td>Two Wheel Drive</td>\n      <td>46139</td>\n      <td>NaN</td>\n      <td>NaN</td>\n      <td>NaN</td>\n      <td>NaN</td>\n      <td>NaN</td>\n      <td>NaN</td>\n      <td>NaN</td>\n      <td>NaN</td>\n      <td>NaN</td>\n    </tr>\n    <tr>\n      <th>Enclosure</th>\n      <td>400800</td>\n      <td>6</td>\n      <td>OROPS</td>\n      <td>173932</td>\n      <td>NaN</td>\n      <td>NaN</td>\n      <td>NaN</td>\n      <td>NaN</td>\n      <td>NaN</td>\n      <td>NaN</td>\n      <td>NaN</td>\n      <td>NaN</td>\n      <td>NaN</td>\n    </tr>\n    <tr>\n      <th>Forks</th>\n      <td>192077</td>\n      <td>2</td>\n      <td>None or Unspecified</td>\n      <td>178300</td>\n      <td>NaN</td>\n      <td>NaN</td>\n      <td>NaN</td>\n      <td>NaN</td>\n      <td>NaN</td>\n      <td>NaN</td>\n      <td>NaN</td>\n      <td>NaN</td>\n      <td>NaN</td>\n    </tr>\n    <tr>\n      <th>Pad_Type</th>\n      <td>79134</td>\n      <td>4</td>\n      <td>None or Unspecified</td>\n      <td>70614</td>\n      <td>NaN</td>\n      <td>NaN</td>\n      <td>NaN</td>\n      <td>NaN</td>\n      <td>NaN</td>\n      <td>NaN</td>\n      <td>NaN</td>\n      <td>NaN</td>\n      <td>NaN</td>\n    </tr>\n    <tr>\n      <th>Ride_Control</th>\n      <td>148606</td>\n      <td>3</td>\n      <td>No</td>\n      <td>77685</td>\n      <td>NaN</td>\n      <td>NaN</td>\n      <td>NaN</td>\n      <td>NaN</td>\n      <td>NaN</td>\n      <td>NaN</td>\n      <td>NaN</td>\n      <td>NaN</td>\n      <td>NaN</td>\n    </tr>\n    <tr>\n      <th>Stick</th>\n      <td>79134</td>\n      <td>2</td>\n      <td>Standard</td>\n      <td>48829</td>\n      <td>NaN</td>\n      <td>NaN</td>\n      <td>NaN</td>\n      <td>NaN</td>\n      <td>NaN</td>\n      <td>NaN</td>\n      <td>NaN</td>\n      <td>NaN</td>\n      <td>NaN</td>\n    </tr>\n    <tr>\n      <th>Transmission</th>\n      <td>183230</td>\n      <td>8</td>\n      <td>Standard</td>\n      <td>140328</td>\n      <td>NaN</td>\n      <td>NaN</td>\n      <td>NaN</td>\n      <td>NaN</td>\n      <td>NaN</td>\n      <td>NaN</td>\n      <td>NaN</td>\n      <td>NaN</td>\n      <td>NaN</td>\n    </tr>\n    <tr>\n      <th>Turbocharged</th>\n      <td>79134</td>\n      <td>2</td>\n      <td>None or Unspecified</td>\n      <td>75211</td>\n      <td>NaN</td>\n      <td>NaN</td>\n      <td>NaN</td>\n      <td>NaN</td>\n      <td>NaN</td>\n      <td>NaN</td>\n      <td>NaN</td>\n      <td>NaN</td>\n      <td>NaN</td>\n    </tr>\n    <tr>\n      <th>Blade_Extension</th>\n      <td>25219</td>\n      <td>2</td>\n      <td>None or Unspecified</td>\n      <td>24692</td>\n      <td>NaN</td>\n      <td>NaN</td>\n      <td>NaN</td>\n      <td>NaN</td>\n      <td>NaN</td>\n      <td>NaN</td>\n      <td>NaN</td>\n      <td>NaN</td>\n      <td>NaN</td>\n    </tr>\n    <tr>\n      <th>Blade_Width</th>\n      <td>25219</td>\n      <td>6</td>\n      <td>14'</td>\n      <td>9615</td>\n      <td>NaN</td>\n      <td>NaN</td>\n      <td>NaN</td>\n      <td>NaN</td>\n      <td>NaN</td>\n      <td>NaN</td>\n      <td>NaN</td>\n      <td>NaN</td>\n      <td>NaN</td>\n    </tr>\n    <tr>\n      <th>Enclosure_Type</th>\n      <td>25219</td>\n      <td>3</td>\n      <td>None or Unspecified</td>\n      <td>21923</td>\n      <td>NaN</td>\n      <td>NaN</td>\n      <td>NaN</td>\n      <td>NaN</td>\n      <td>NaN</td>\n      <td>NaN</td>\n      <td>NaN</td>\n      <td>NaN</td>\n      <td>NaN</td>\n    </tr>\n    <tr>\n      <th>Engine_Horsepower</th>\n      <td>25219</td>\n      <td>2</td>\n      <td>No</td>\n      <td>23937</td>\n      <td>NaN</td>\n      <td>NaN</td>\n      <td>NaN</td>\n      <td>NaN</td>\n      <td>NaN</td>\n      <td>NaN</td>\n      <td>NaN</td>\n      <td>NaN</td>\n      <td>NaN</td>\n    </tr>\n    <tr>\n      <th>Hydraulics</th>\n      <td>320570</td>\n      <td>12</td>\n      <td>2 Valve</td>\n      <td>141404</td>\n      <td>NaN</td>\n      <td>NaN</td>\n      <td>NaN</td>\n      <td>NaN</td>\n      <td>NaN</td>\n      <td>NaN</td>\n      <td>NaN</td>\n      <td>NaN</td>\n      <td>NaN</td>\n    </tr>\n    <tr>\n      <th>Pushblock</th>\n      <td>25219</td>\n      <td>2</td>\n      <td>None or Unspecified</td>\n      <td>19463</td>\n      <td>NaN</td>\n      <td>NaN</td>\n      <td>NaN</td>\n      <td>NaN</td>\n      <td>NaN</td>\n      <td>NaN</td>\n      <td>NaN</td>\n      <td>NaN</td>\n      <td>NaN</td>\n    </tr>\n    <tr>\n      <th>Ripper</th>\n      <td>104137</td>\n      <td>4</td>\n      <td>None or Unspecified</td>\n      <td>83452</td>\n      <td>NaN</td>\n      <td>NaN</td>\n      <td>NaN</td>\n      <td>NaN</td>\n      <td>NaN</td>\n      <td>NaN</td>\n      <td>NaN</td>\n      <td>NaN</td>\n      <td>NaN</td>\n    </tr>\n    <tr>\n      <th>Scarifier</th>\n      <td>25230</td>\n      <td>2</td>\n      <td>None or Unspecified</td>\n      <td>12719</td>\n      <td>NaN</td>\n      <td>NaN</td>\n      <td>NaN</td>\n      <td>NaN</td>\n      <td>NaN</td>\n      <td>NaN</td>\n      <td>NaN</td>\n      <td>NaN</td>\n      <td>NaN</td>\n    </tr>\n    <tr>\n      <th>Tip_Control</th>\n      <td>25219</td>\n      <td>3</td>\n      <td>None or Unspecified</td>\n      <td>16207</td>\n      <td>NaN</td>\n      <td>NaN</td>\n      <td>NaN</td>\n      <td>NaN</td>\n      <td>NaN</td>\n      <td>NaN</td>\n      <td>NaN</td>\n      <td>NaN</td>\n      <td>NaN</td>\n    </tr>\n    <tr>\n      <th>Tire_Size</th>\n      <td>94718</td>\n      <td>17</td>\n      <td>None or Unspecified</td>\n      <td>46339</td>\n      <td>NaN</td>\n      <td>NaN</td>\n      <td>NaN</td>\n      <td>NaN</td>\n      <td>NaN</td>\n      <td>NaN</td>\n      <td>NaN</td>\n      <td>NaN</td>\n      <td>NaN</td>\n    </tr>\n    <tr>\n      <th>Coupler</th>\n      <td>213952</td>\n      <td>3</td>\n      <td>None or Unspecified</td>\n      <td>184582</td>\n      <td>NaN</td>\n      <td>NaN</td>\n      <td>NaN</td>\n      <td>NaN</td>\n      <td>NaN</td>\n      <td>NaN</td>\n      <td>NaN</td>\n      <td>NaN</td>\n      <td>NaN</td>\n    </tr>\n    <tr>\n      <th>Coupler_System</th>\n      <td>43458</td>\n      <td>2</td>\n      <td>None or Unspecified</td>\n      <td>40430</td>\n      <td>NaN</td>\n      <td>NaN</td>\n      <td>NaN</td>\n      <td>NaN</td>\n      <td>NaN</td>\n      <td>NaN</td>\n      <td>NaN</td>\n      <td>NaN</td>\n      <td>NaN</td>\n    </tr>\n    <tr>\n      <th>Grouser_Tracks</th>\n      <td>43362</td>\n      <td>2</td>\n      <td>None or Unspecified</td>\n      <td>40515</td>\n      <td>NaN</td>\n      <td>NaN</td>\n      <td>NaN</td>\n      <td>NaN</td>\n      <td>NaN</td>\n      <td>NaN</td>\n      <td>NaN</td>\n      <td>NaN</td>\n      <td>NaN</td>\n    </tr>\n    <tr>\n      <th>Hydraulics_Flow</th>\n      <td>43362</td>\n      <td>3</td>\n      <td>Standard</td>\n      <td>42784</td>\n      <td>NaN</td>\n      <td>NaN</td>\n      <td>NaN</td>\n      <td>NaN</td>\n      <td>NaN</td>\n      <td>NaN</td>\n      <td>NaN</td>\n      <td>NaN</td>\n      <td>NaN</td>\n    </tr>\n    <tr>\n      <th>Track_Type</th>\n      <td>99153</td>\n      <td>2</td>\n      <td>Steel</td>\n      <td>84880</td>\n      <td>NaN</td>\n      <td>NaN</td>\n      <td>NaN</td>\n      <td>NaN</td>\n      <td>NaN</td>\n      <td>NaN</td>\n      <td>NaN</td>\n      <td>NaN</td>\n      <td>NaN</td>\n    </tr>\n    <tr>\n      <th>Undercarriage_Pad_Width</th>\n      <td>99872</td>\n      <td>19</td>\n      <td>None or Unspecified</td>\n      <td>79651</td>\n      <td>NaN</td>\n      <td>NaN</td>\n      <td>NaN</td>\n      <td>NaN</td>\n      <td>NaN</td>\n      <td>NaN</td>\n      <td>NaN</td>\n      <td>NaN</td>\n      <td>NaN</td>\n    </tr>\n    <tr>\n      <th>Stick_Length</th>\n      <td>99218</td>\n      <td>29</td>\n      <td>None or Unspecified</td>\n      <td>78820</td>\n      <td>NaN</td>\n      <td>NaN</td>\n      <td>NaN</td>\n      <td>NaN</td>\n      <td>NaN</td>\n      <td>NaN</td>\n      <td>NaN</td>\n      <td>NaN</td>\n      <td>NaN</td>\n    </tr>\n    <tr>\n      <th>Thumb</th>\n      <td>99288</td>\n      <td>3</td>\n      <td>None or Unspecified</td>\n      <td>83093</td>\n      <td>NaN</td>\n      <td>NaN</td>\n      <td>NaN</td>\n      <td>NaN</td>\n      <td>NaN</td>\n      <td>NaN</td>\n      <td>NaN</td>\n      <td>NaN</td>\n      <td>NaN</td>\n    </tr>\n    <tr>\n      <th>Pattern_Changer</th>\n      <td>99218</td>\n      <td>3</td>\n      <td>None or Unspecified</td>\n      <td>90255</td>\n      <td>NaN</td>\n      <td>NaN</td>\n      <td>NaN</td>\n      <td>NaN</td>\n      <td>NaN</td>\n      <td>NaN</td>\n      <td>NaN</td>\n      <td>NaN</td>\n      <td>NaN</td>\n    </tr>\n    <tr>\n      <th>Grouser_Type</th>\n      <td>99153</td>\n      <td>3</td>\n      <td>Double</td>\n      <td>84653</td>\n      <td>NaN</td>\n      <td>NaN</td>\n      <td>NaN</td>\n      <td>NaN</td>\n      <td>NaN</td>\n      <td>NaN</td>\n      <td>NaN</td>\n      <td>NaN</td>\n      <td>NaN</td>\n    </tr>\n    <tr>\n      <th>Backhoe_Mounting</th>\n      <td>78672</td>\n      <td>2</td>\n      <td>None or Unspecified</td>\n      <td>78652</td>\n      <td>NaN</td>\n      <td>NaN</td>\n      <td>NaN</td>\n      <td>NaN</td>\n      <td>NaN</td>\n      <td>NaN</td>\n      <td>NaN</td>\n      <td>NaN</td>\n      <td>NaN</td>\n    </tr>\n    <tr>\n      <th>Blade_Type</th>\n      <td>79833</td>\n      <td>10</td>\n      <td>PAT</td>\n      <td>38612</td>\n      <td>NaN</td>\n      <td>NaN</td>\n      <td>NaN</td>\n      <td>NaN</td>\n      <td>NaN</td>\n      <td>NaN</td>\n      <td>NaN</td>\n      <td>NaN</td>\n      <td>NaN</td>\n    </tr>\n    <tr>\n      <th>Travel_Controls</th>\n      <td>79834</td>\n      <td>7</td>\n      <td>None or Unspecified</td>\n      <td>69923</td>\n      <td>NaN</td>\n      <td>NaN</td>\n      <td>NaN</td>\n      <td>NaN</td>\n      <td>NaN</td>\n      <td>NaN</td>\n      <td>NaN</td>\n      <td>NaN</td>\n      <td>NaN</td>\n    </tr>\n    <tr>\n      <th>Differential_Type</th>\n      <td>69411</td>\n      <td>4</td>\n      <td>Standard</td>\n      <td>68073</td>\n      <td>NaN</td>\n      <td>NaN</td>\n      <td>NaN</td>\n      <td>NaN</td>\n      <td>NaN</td>\n      <td>NaN</td>\n      <td>NaN</td>\n      <td>NaN</td>\n      <td>NaN</td>\n    </tr>\n    <tr>\n      <th>Steering_Controls</th>\n      <td>69369</td>\n      <td>5</td>\n      <td>Conventional</td>\n      <td>68679</td>\n      <td>NaN</td>\n      <td>NaN</td>\n      <td>NaN</td>\n      <td>NaN</td>\n      <td>NaN</td>\n      <td>NaN</td>\n      <td>NaN</td>\n      <td>NaN</td>\n      <td>NaN</td>\n    </tr>\n  </tbody>\n</table>\n</div>"
          },
          "metadata": {}
        }
      ]
    },
    {
      "metadata": {
        "_uuid": "b8f6e907ba48aa52f5b56b64c2beafffc5b6c6be"
      },
      "cell_type": "markdown",
      "source": "It's important to note what metric is being used for a project. Generally, selecting the metric(s) is an important part of the project setup. However, in this case Kaggle tells us what metric to use: RMSLE (root mean squared log error) between the actual and predicted auction prices. Therefore we take the log of the prices, so that RMSE will give us what we need."
    },
    {
      "metadata": {
        "trusted": true,
        "_uuid": "35cfe43dafa4d604ca53dfdc6c03e5321ca6e815"
      },
      "cell_type": "code",
      "source": "df_raw.SalePrice = np.log(df_raw.SalePrice)",
      "execution_count": 12,
      "outputs": []
    },
    {
      "metadata": {
        "_uuid": "0cc071a293471e10537a6e50388365af06c7cda5"
      },
      "cell_type": "markdown",
      "source": "### Initial processing"
    },
    {
      "metadata": {
        "trusted": true,
        "_uuid": "d1442ed3373eabd82822f7d0ffe519a3f1107f8f"
      },
      "cell_type": "code",
      "source": "m = RandomForestRegressor(n_jobs=-1)\n# The following code is supposed to fail due to string values in the input data\n#m.fit(df_raw.drop('SalePrice', axis=1), df_raw.SalePrice)",
      "execution_count": 14,
      "outputs": []
    },
    {
      "metadata": {
        "_uuid": "b6b9a4cb48e02fb8cc57797daab06d569e8cbb01"
      },
      "cell_type": "markdown",
      "source": "This dataset contains a mix of **continuous** and **categorical** variables.\n\nThe following method extracts particular date fields from a complete datetime for the purpose of constructing categoricals.  You should always consider this feature extraction step when working with date-time. Without expanding your date-time into these additional fields, you can't capture any trend/cyclical behavior as a function of time at any of these granularities."
    },
    {
      "metadata": {
        "trusted": true,
        "_uuid": "1a7f1fe7c35ab06af3be1887069b1ba3e6b3b537"
      },
      "cell_type": "code",
      "source": "add_datepart(df_raw, 'saledate')\ndf_raw.saleYear.head()",
      "execution_count": 15,
      "outputs": [
        {
          "output_type": "execute_result",
          "execution_count": 15,
          "data": {
            "text/plain": "0    2006\n1    2004\n2    2004\n3    2011\n4    2009\nName: saleYear, dtype: int64"
          },
          "metadata": {}
        }
      ]
    },
    {
      "metadata": {
        "_uuid": "b9464b2fa33182beff0ced4bac3550984bfac90f"
      },
      "cell_type": "markdown",
      "source": "The categorical variables are currently stored as strings, which is inefficient, and doesn't provide the numeric coding required for a random forest. Therefore we call `train_cats` to convert strings to pandas categories."
    },
    {
      "metadata": {
        "trusted": true,
        "_uuid": "a4144eec5300c7ec2049f78b8c4e40224af07179"
      },
      "cell_type": "code",
      "source": "train_cats(df_raw)",
      "execution_count": 16,
      "outputs": []
    },
    {
      "metadata": {
        "_uuid": "62d77f6bc53a15291207738fc61f2f8aaab96278"
      },
      "cell_type": "markdown",
      "source": "We can specify the order to use for categorical variables if we wish:"
    },
    {
      "metadata": {
        "trusted": true,
        "_uuid": "b0c368634b1ed38a90cd9e208996842e4b724ade"
      },
      "cell_type": "code",
      "source": "df_raw.UsageBand.cat.categories",
      "execution_count": 17,
      "outputs": [
        {
          "output_type": "execute_result",
          "execution_count": 17,
          "data": {
            "text/plain": "Index(['High', 'Low', 'Medium'], dtype='object')"
          },
          "metadata": {}
        }
      ]
    },
    {
      "metadata": {
        "trusted": true,
        "_uuid": "0ea5f86ac312804007cb32a8bea4539c5018355d"
      },
      "cell_type": "code",
      "source": "df_raw.UsageBand.cat.set_categories(['High', 'Medium', 'Low'], ordered=True, inplace=True)",
      "execution_count": 18,
      "outputs": []
    },
    {
      "metadata": {
        "_uuid": "fadf451e28e76844f095b462fd14f3fdcad28ba1"
      },
      "cell_type": "markdown",
      "source": "Normally, pandas will continue displaying the text categories, while treating them as numerical data internally. Optionally, we can replace the text categories with numbers, which will make this variable non-categorical, like so:."
    },
    {
      "metadata": {
        "trusted": true,
        "_uuid": "f60fc234c7a93d6a3533528ab77f65786fb72c85"
      },
      "cell_type": "code",
      "source": "df_raw.UsageBand = df_raw.UsageBand.cat.codes",
      "execution_count": 19,
      "outputs": []
    },
    {
      "metadata": {
        "_uuid": "800312d593aeb1580aa44122c289ff26ee63329b"
      },
      "cell_type": "markdown",
      "source": "We're still not quite done - for instance we have lots of missing values, which we can't pass directly to a random forest."
    },
    {
      "metadata": {
        "trusted": true,
        "_uuid": "b676bee8d374d5ec7893c9d2a091ab30e6a77b18"
      },
      "cell_type": "code",
      "source": "display_all(df_raw.isnull().sum().sort_index()/len(df_raw))",
      "execution_count": 20,
      "outputs": [
        {
          "output_type": "display_data",
          "data": {
            "text/plain": "Backhoe_Mounting            0.803872\nBlade_Extension             0.937129\nBlade_Type                  0.800977\nBlade_Width                 0.937129\nCoupler                     0.466620\nCoupler_System              0.891660\nDifferential_Type           0.826959\nDrive_System                0.739829\nEnclosure                   0.000810\nEnclosure_Type              0.937129\nEngine_Horsepower           0.937129\nForks                       0.521154\nGrouser_Tracks              0.891899\nGrouser_Type                0.752813\nHydraulics                  0.200823\nHydraulics_Flow             0.891899\nMachineHoursCurrentMeter    0.644089\nMachineID                   0.000000\nModelID                     0.000000\nPad_Type                    0.802720\nPattern_Changer             0.752651\nProductGroup                0.000000\nProductGroupDesc            0.000000\nProductSize                 0.525460\nPushblock                   0.937129\nRide_Control                0.629527\nRipper                      0.740388\nSalePrice                   0.000000\nSalesID                     0.000000\nScarifier                   0.937102\nSteering_Controls           0.827064\nStick                       0.802720\nStick_Length                0.752651\nThumb                       0.752476\nTip_Control                 0.937129\nTire_Size                   0.763869\nTrack_Type                  0.752813\nTransmission                0.543210\nTravel_Controls             0.800975\nTurbocharged                0.802720\nUndercarriage_Pad_Width     0.751020\nUsageBand                   0.000000\nYearMade                    0.000000\nauctioneerID                0.050199\ndatasource                  0.000000\nfiBaseModel                 0.000000\nfiModelDesc                 0.000000\nfiModelDescriptor           0.820707\nfiModelSeries               0.858129\nfiProductClassDesc          0.000000\nfiSecondaryDesc             0.342016\nsaleDay                     0.000000\nsaleDayofweek               0.000000\nsaleDayofyear               0.000000\nsaleElapsed                 0.000000\nsaleIs_month_end            0.000000\nsaleIs_month_start          0.000000\nsaleIs_quarter_end          0.000000\nsaleIs_quarter_start        0.000000\nsaleIs_year_end             0.000000\nsaleIs_year_start           0.000000\nsaleMonth                   0.000000\nsaleWeek                    0.000000\nsaleYear                    0.000000\nstate                       0.000000\ndtype: float64"
          },
          "metadata": {}
        }
      ]
    },
    {
      "metadata": {
        "_uuid": "a3db805fd46e17c5031cfaf19a352c3a7003e491"
      },
      "cell_type": "markdown",
      "source": "But let's save this file for now, since it's already in format can we be stored and accessed efficiently."
    },
    {
      "metadata": {
        "trusted": true,
        "_uuid": "65ced22eac1dea3cabf530d346ec97c15bc065e0"
      },
      "cell_type": "code",
      "source": "os.makedirs('tmp', exist_ok=True)\ndf_raw.to_feather('tmp/bulldozers-raw')",
      "execution_count": 21,
      "outputs": []
    },
    {
      "metadata": {
        "_uuid": "0582df5346613907d2a9677338b20aa7f1dfc61c"
      },
      "cell_type": "markdown",
      "source": "### Pre-processing"
    },
    {
      "metadata": {
        "_uuid": "3ac8081b051680d3d2ef9d76abec702cc3bac07f"
      },
      "cell_type": "markdown",
      "source": "In the future we can simply read it from this fast format."
    },
    {
      "metadata": {
        "trusted": true,
        "_uuid": "733330a90193ab33737f7f4e1503f4163895a7ea"
      },
      "cell_type": "code",
      "source": "df_raw = pd.read_feather('tmp/bulldozers-raw')",
      "execution_count": 22,
      "outputs": [
        {
          "output_type": "stream",
          "text": "/opt/conda/lib/python3.6/site-packages/pandas/io/feather_format.py:112: FutureWarning: `nthreads` argument is deprecated, pass `use_threads` instead\n  return feather.read_dataframe(path, nthreads=nthreads)\n",
          "name": "stderr"
        }
      ]
    },
    {
      "metadata": {
        "_uuid": "94b5d2d8c58cff8ce877128726bdcb8c5b54a05c"
      },
      "cell_type": "markdown",
      "source": "We'll replace categories with their numeric codes, handle missing continuous values, and split the dependent variable into a separate variable."
    },
    {
      "metadata": {
        "trusted": true,
        "_uuid": "ed570c9814e8ec683426a3365069d6814b8a50f9"
      },
      "cell_type": "code",
      "source": "df, y, nas = proc_df(df_raw, 'SalePrice')",
      "execution_count": 23,
      "outputs": []
    },
    {
      "metadata": {
        "_uuid": "f99758dbfcbaa9f2ce2833aff2c772a11f2a8100"
      },
      "cell_type": "markdown",
      "source": "We now have something we can pass to a random forest!"
    },
    {
      "metadata": {
        "trusted": true,
        "_uuid": "4c525e4e0ef52fde0947e856d35f2f67b5b5dac1"
      },
      "cell_type": "code",
      "source": "m = RandomForestRegressor(n_jobs=-1)\nm.fit(df, y)\nm.score(df,y)",
      "execution_count": 24,
      "outputs": [
        {
          "output_type": "stream",
          "text": "/opt/conda/lib/python3.6/site-packages/sklearn/ensemble/forest.py:246: FutureWarning: The default value of n_estimators will change from 10 in version 0.20 to 100 in 0.22.\n  \"10 in version 0.20 to 100 in 0.22.\", FutureWarning)\n",
          "name": "stderr"
        },
        {
          "output_type": "execute_result",
          "execution_count": 24,
          "data": {
            "text/plain": "0.9830479259192912"
          },
          "metadata": {}
        }
      ]
    },
    {
      "metadata": {
        "_uuid": "383c3cfdc639a7d7c22f4755c6e671f0c7920123"
      },
      "cell_type": "markdown",
      "source": "In statistics, the coefficient of determination, denoted R2 or r2 and pronounced \"R squared\", is the proportion of the variance in the dependent variable that is predictable from the independent variable(s). https://en.wikipedia.org/wiki/Coefficient_of_determination"
    },
    {
      "metadata": {
        "_uuid": "020bfeb83d420ce965a79fe106875a057e57613d"
      },
      "cell_type": "markdown",
      "source": "Wow, an r^2 of 0.98 - that's great, right? Well, perhaps not...\n\nPossibly **the most important idea** in machine learning is that of having separate training & validation data sets. As motivation, suppose you don't divide up your data, but instead use all of it.  And suppose you have lots of parameters:\n\n<img src=\"images/overfitting2.png\" alt=\"\" style=\"width: 70%\"/>\n<center>\n[Underfitting and Overfitting](https://datascience.stackexchange.com/questions/361/when-is-a-model-underfitted)\n</center>\n\nThe error for the pictured data points is lowest for the model on the far right (the blue curve passes through the red points almost perfectly), yet it's not the best choice.  Why is that?  If you were to gather some new data points, they most likely would not be on that curve in the graph on the right, but would be closer to the curve in the middle graph.\n\nThis illustrates how using all our data can lead to **overfitting**. A validation set helps diagnose this problem."
    },
    {
      "metadata": {
        "trusted": true,
        "_uuid": "03b0ed8a3fc084f564e39fc1e6a715b213e46968"
      },
      "cell_type": "code",
      "source": "def split_vals(a,n): return a[:n].copy(), a[n:].copy()\n\nn_valid = 12000  # same as Kaggle's test set size\nn_trn = len(df)-n_valid\nraw_train, raw_valid = split_vals(df_raw, n_trn)\nX_train, X_valid = split_vals(df, n_trn)\ny_train, y_valid = split_vals(y, n_trn)\n\nX_train.shape, y_train.shape, X_valid.shape",
      "execution_count": 25,
      "outputs": [
        {
          "output_type": "execute_result",
          "execution_count": 25,
          "data": {
            "text/plain": "((389125, 66), (389125,), (12000, 66))"
          },
          "metadata": {}
        }
      ]
    },
    {
      "metadata": {
        "_uuid": "5d8329eaf818288f6c83d52eb3d5329e963339f3"
      },
      "cell_type": "markdown",
      "source": "# Random Forests"
    },
    {
      "metadata": {
        "_uuid": "cf8d544aa84ddf83a24b8bef5ed75720c6f443a0"
      },
      "cell_type": "markdown",
      "source": "## Base model"
    },
    {
      "metadata": {
        "_uuid": "2ed0cf181423696c20c92934e26e70ccdd8b265b"
      },
      "cell_type": "markdown",
      "source": "Let's try our model again, this time with separate training and validation sets."
    },
    {
      "metadata": {
        "trusted": true,
        "_uuid": "f6e62979fe4dabb8fd689dbc6d42bee0c9e83fee"
      },
      "cell_type": "code",
      "source": "def rmse(x,y): return math.sqrt(((x-y)**2).mean())\n\ndef print_score(m):\n    res = [rmse(m.predict(X_train), y_train), rmse(m.predict(X_valid), y_valid),\n                m.score(X_train, y_train), m.score(X_valid, y_valid)]\n    if hasattr(m, 'oob_score_'): res.append(m.oob_score_)\n    print(res)",
      "execution_count": 26,
      "outputs": []
    },
    {
      "metadata": {
        "trusted": true,
        "_uuid": "5d6cfd947159d73ccfe6367fd03d9dc08fa7afbe"
      },
      "cell_type": "code",
      "source": "m = RandomForestRegressor(n_jobs=-1)\n%time m.fit(X_train, y_train)\nprint_score(m)",
      "execution_count": 27,
      "outputs": [
        {
          "output_type": "stream",
          "text": "/opt/conda/lib/python3.6/site-packages/sklearn/ensemble/forest.py:246: FutureWarning: The default value of n_estimators will change from 10 in version 0.20 to 100 in 0.22.\n  \"10 in version 0.20 to 100 in 0.22.\", FutureWarning)\n",
          "name": "stderr"
        },
        {
          "output_type": "stream",
          "text": "CPU times: user 1min 38s, sys: 676 ms, total: 1min 38s\nWall time: 29.5 s\n[0.09048033890321187, 0.25299515113843823, 0.9828902657805297, 0.885693120420313]\n",
          "name": "stdout"
        }
      ]
    },
    {
      "metadata": {
        "_uuid": "92ffd14ea998497b5947bbba7ab75b6565cb146c"
      },
      "cell_type": "markdown",
      "source": "An r^2 in the high-80's isn't bad at all (and the RMSLE puts us around rank 100 of 470 on the Kaggle leaderboard), but we can see from the validation set score that we're over-fitting badly. To understand this issue, let's simplify things down to a single small tree."
    },
    {
      "metadata": {
        "_uuid": "c999022626c8deb82e8d7a01a3c5f9fcd2ad44b7"
      },
      "cell_type": "markdown",
      "source": "## Speeding things up"
    },
    {
      "metadata": {
        "trusted": true,
        "_uuid": "dba65c173a4bf520ed2ed5ded6eba3f96e2cdc53"
      },
      "cell_type": "code",
      "source": "df_trn, y_trn, nas = proc_df(df_raw, 'SalePrice', subset=30000, na_dict=nas)\nX_train, _ = split_vals(df_trn, 20000)\ny_train, _ = split_vals(y_trn, 20000)",
      "execution_count": 28,
      "outputs": []
    },
    {
      "metadata": {
        "trusted": true,
        "_uuid": "bc6e18f5fd17aed0c3bb8d62c7c98ad0f4bb32da"
      },
      "cell_type": "code",
      "source": "m = RandomForestRegressor(n_jobs=-1)\n%time m.fit(X_train, y_train)\nprint_score(m)",
      "execution_count": 29,
      "outputs": [
        {
          "output_type": "stream",
          "text": "/opt/conda/lib/python3.6/site-packages/sklearn/ensemble/forest.py:246: FutureWarning: The default value of n_estimators will change from 10 in version 0.20 to 100 in 0.22.\n  \"10 in version 0.20 to 100 in 0.22.\", FutureWarning)\n",
          "name": "stderr"
        },
        {
          "output_type": "stream",
          "text": "CPU times: user 3.3 s, sys: 12 ms, total: 3.31 s\nWall time: 969 ms\n[0.11154152751632541, 0.3783276440243415, 0.9729278018237768, 0.7443863005604937]\n",
          "name": "stdout"
        }
      ]
    },
    {
      "metadata": {
        "_uuid": "4647d289cbd7cdcbd31fd5ea4d5166f4ae568235"
      },
      "cell_type": "markdown",
      "source": "## Single tree"
    },
    {
      "metadata": {
        "trusted": true,
        "_uuid": "9e6d17691844ef9fa50ababd87c0eb0ca5cc492c"
      },
      "cell_type": "code",
      "source": "m = RandomForestRegressor(n_estimators=1, max_depth=3, bootstrap=False, n_jobs=-1)\nm.fit(X_train, y_train)\nprint_score(m)",
      "execution_count": 30,
      "outputs": [
        {
          "output_type": "stream",
          "text": "[0.5196115404455319, 0.5823443032644148, 0.41249993184370015, 0.3943696418101279]\n",
          "name": "stdout"
        }
      ]
    },
    {
      "metadata": {
        "trusted": true,
        "_uuid": "284184d1414693e56b10620e22b6552de028efd4"
      },
      "cell_type": "code",
      "source": "draw_tree(m.estimators_[0], df_trn, precision=3)",
      "execution_count": 31,
      "outputs": [
        {
          "output_type": "display_data",
          "data": {
            "text/plain": "<graphviz.files.Source at 0x7fba4714d518>",
            "image/svg+xml": "<?xml version=\"1.0\" encoding=\"UTF-8\" standalone=\"no\"?>\n<!DOCTYPE svg PUBLIC \"-//W3C//DTD SVG 1.1//EN\"\n \"http://www.w3.org/Graphics/SVG/1.1/DTD/svg11.dtd\">\n<!-- Generated by graphviz version 2.38.0 (20140413.2041)\n -->\n<!-- Title: Tree Pages: 1 -->\n<svg width=\"720pt\" height=\"434pt\"\n viewBox=\"0.00 0.00 720.00 434.49\" xmlns=\"http://www.w3.org/2000/svg\" xmlns:xlink=\"http://www.w3.org/1999/xlink\">\n<g id=\"graph0\" class=\"graph\" transform=\"scale(0.778659 0.778659) rotate(0) translate(4 554)\">\n<title>Tree</title>\n<polygon fill=\"white\" stroke=\"none\" points=\"-4,4 -4,-554 920.667,-554 920.667,4 -4,4\"/>\n<!-- 0 -->\n<g id=\"node1\" class=\"node\"><title>0</title>\n<polygon fill=\"#e58139\" fill-opacity=\"0.729412\" stroke=\"black\" points=\"170.667,-308.5 30.6667,-308.5 30.6667,-240.5 170.667,-240.5 170.667,-308.5\"/>\n<text text-anchor=\"start\" x=\"38.6667\" y=\"-293.3\" font-family=\"Times,serif\" font-size=\"14.00\">Coupler_System ≤ 0.5</text>\n<text text-anchor=\"start\" x=\"69.1667\" y=\"-278.3\" font-family=\"Times,serif\" font-size=\"14.00\">mse = 0.46</text>\n<text text-anchor=\"start\" x=\"53.6667\" y=\"-263.3\" font-family=\"Times,serif\" font-size=\"14.00\">samples = 20000</text>\n<text text-anchor=\"start\" x=\"59.1667\" y=\"-248.3\" font-family=\"Times,serif\" font-size=\"14.00\">value = 10.117</text>\n</g>\n<!-- 1 -->\n<g id=\"node2\" class=\"node\"><title>1</title>\n<polygon fill=\"#e58139\" fill-opacity=\"0.792157\" stroke=\"black\" points=\"409.667,-361.5 281.667,-361.5 281.667,-293.5 409.667,-293.5 409.667,-361.5\"/>\n<text text-anchor=\"start\" x=\"289.667\" y=\"-346.3\" font-family=\"Times,serif\" font-size=\"14.00\">YearMade ≤ 1985.5</text>\n<text text-anchor=\"start\" x=\"310.667\" y=\"-331.3\" font-family=\"Times,serif\" font-size=\"14.00\">mse = 0.397</text>\n<text text-anchor=\"start\" x=\"298.667\" y=\"-316.3\" font-family=\"Times,serif\" font-size=\"14.00\">samples = 18190</text>\n<text text-anchor=\"start\" x=\"304.167\" y=\"-301.3\" font-family=\"Times,serif\" font-size=\"14.00\">value = 10.211</text>\n</g>\n<!-- 0&#45;&gt;1 -->\n<g id=\"edge1\" class=\"edge\"><title>0&#45;&gt;1</title>\n<path fill=\"none\" stroke=\"black\" d=\"M170.976,-289.617C202.368,-296.464 239.499,-304.562 271.356,-311.511\"/>\n<polygon fill=\"black\" stroke=\"black\" points=\"270.984,-315.012 281.5,-313.723 272.476,-308.172 270.984,-315.012\"/>\n<text text-anchor=\"middle\" x=\"260.461\" y=\"-323.528\" font-family=\"Times,serif\" font-size=\"14.00\">True</text>\n</g>\n<!-- 8 -->\n<g id=\"node9\" class=\"node\"><title>8</title>\n<polygon fill=\"#e58139\" fill-opacity=\"0.109804\" stroke=\"black\" points=\"409.667,-255.5 281.667,-255.5 281.667,-187.5 409.667,-187.5 409.667,-255.5\"/>\n<text text-anchor=\"start\" x=\"289.667\" y=\"-240.3\" font-family=\"Times,serif\" font-size=\"14.00\">YearMade ≤ 1998.5</text>\n<text text-anchor=\"start\" x=\"310.667\" y=\"-225.3\" font-family=\"Times,serif\" font-size=\"14.00\">mse = 0.117</text>\n<text text-anchor=\"start\" x=\"301.667\" y=\"-210.3\" font-family=\"Times,serif\" font-size=\"14.00\">samples = 1810</text>\n<text text-anchor=\"start\" x=\"307.667\" y=\"-195.3\" font-family=\"Times,serif\" font-size=\"14.00\">value = 9.176</text>\n</g>\n<!-- 0&#45;&gt;8 -->\n<g id=\"edge8\" class=\"edge\"><title>0&#45;&gt;8</title>\n<path fill=\"none\" stroke=\"black\" d=\"M170.976,-259.383C202.368,-252.536 239.499,-244.438 271.356,-237.489\"/>\n<polygon fill=\"black\" stroke=\"black\" points=\"272.476,-240.828 281.5,-235.277 270.984,-233.988 272.476,-240.828\"/>\n<text text-anchor=\"middle\" x=\"260.461\" y=\"-218.072\" font-family=\"Times,serif\" font-size=\"14.00\">False</text>\n</g>\n<!-- 2 -->\n<g id=\"node3\" class=\"node\"><title>2</title>\n<polygon fill=\"#e58139\" fill-opacity=\"0.580392\" stroke=\"black\" points=\"662.667,-486.5 542.667,-486.5 542.667,-418.5 662.667,-418.5 662.667,-486.5\"/>\n<text text-anchor=\"start\" x=\"550.667\" y=\"-471.3\" font-family=\"Times,serif\" font-size=\"14.00\">ModelID ≤ 4244.0</text>\n<text text-anchor=\"start\" x=\"567.667\" y=\"-456.3\" font-family=\"Times,serif\" font-size=\"14.00\">mse = 0.332</text>\n<text text-anchor=\"start\" x=\"558.667\" y=\"-441.3\" font-family=\"Times,serif\" font-size=\"14.00\">samples = 5763</text>\n<text text-anchor=\"start\" x=\"564.667\" y=\"-426.3\" font-family=\"Times,serif\" font-size=\"14.00\">value = 9.893</text>\n</g>\n<!-- 1&#45;&gt;2 -->\n<g id=\"edge2\" class=\"edge\"><title>1&#45;&gt;2</title>\n<path fill=\"none\" stroke=\"black\" d=\"M409.7,-358.399C447.249,-376.805 494.92,-400.173 533.363,-419.018\"/>\n<polygon fill=\"black\" stroke=\"black\" points=\"531.901,-422.199 542.421,-423.458 534.982,-415.914 531.901,-422.199\"/>\n</g>\n<!-- 5 -->\n<g id=\"node6\" class=\"node\"><title>5</title>\n<polygon fill=\"#e58139\" fill-opacity=\"0.886275\" stroke=\"black\" points=\"680.667,-361.5 524.667,-361.5 524.667,-293.5 680.667,-293.5 680.667,-361.5\"/>\n<text text-anchor=\"start\" x=\"532.667\" y=\"-346.3\" font-family=\"Times,serif\" font-size=\"14.00\">fiProductClassDesc ≤ 7.5</text>\n<text text-anchor=\"start\" x=\"567.667\" y=\"-331.3\" font-family=\"Times,serif\" font-size=\"14.00\">mse = 0.358</text>\n<text text-anchor=\"start\" x=\"555.667\" y=\"-316.3\" font-family=\"Times,serif\" font-size=\"14.00\">samples = 12427</text>\n<text text-anchor=\"start\" x=\"561.167\" y=\"-301.3\" font-family=\"Times,serif\" font-size=\"14.00\">value = 10.358</text>\n</g>\n<!-- 1&#45;&gt;5 -->\n<g id=\"edge5\" class=\"edge\"><title>1&#45;&gt;5</title>\n<path fill=\"none\" stroke=\"black\" d=\"M409.7,-327.5C441.246,-327.5 479.936,-327.5 514.296,-327.5\"/>\n<polygon fill=\"black\" stroke=\"black\" points=\"514.334,-331 524.334,-327.5 514.334,-324 514.334,-331\"/>\n</g>\n<!-- 3 -->\n<g id=\"node4\" class=\"node\"><title>3</title>\n<polygon fill=\"#e58139\" fill-opacity=\"0.721569\" stroke=\"black\" points=\"893.667,-550 789.667,-550 789.667,-497 893.667,-497 893.667,-550\"/>\n<text text-anchor=\"start\" x=\"806.667\" y=\"-534.8\" font-family=\"Times,serif\" font-size=\"14.00\">mse = 0.356</text>\n<text text-anchor=\"start\" x=\"797.667\" y=\"-519.8\" font-family=\"Times,serif\" font-size=\"14.00\">samples = 2842</text>\n<text text-anchor=\"start\" x=\"800.167\" y=\"-504.8\" font-family=\"Times,serif\" font-size=\"14.00\">value = 10.103</text>\n</g>\n<!-- 2&#45;&gt;3 -->\n<g id=\"edge3\" class=\"edge\"><title>2&#45;&gt;3</title>\n<path fill=\"none\" stroke=\"black\" d=\"M662.86,-470.233C698.452,-480.896 743.661,-494.439 779.585,-505.201\"/>\n<polygon fill=\"black\" stroke=\"black\" points=\"778.872,-508.641 789.456,-508.158 780.881,-501.936 778.872,-508.641\"/>\n</g>\n<!-- 4 -->\n<g id=\"node5\" class=\"node\"><title>4</title>\n<polygon fill=\"#e58139\" fill-opacity=\"0.447059\" stroke=\"black\" points=\"893.667,-479 789.667,-479 789.667,-426 893.667,-426 893.667,-479\"/>\n<text text-anchor=\"start\" x=\"806.667\" y=\"-463.8\" font-family=\"Times,serif\" font-size=\"14.00\">mse = 0.224</text>\n<text text-anchor=\"start\" x=\"797.667\" y=\"-448.8\" font-family=\"Times,serif\" font-size=\"14.00\">samples = 2921</text>\n<text text-anchor=\"start\" x=\"803.667\" y=\"-433.8\" font-family=\"Times,serif\" font-size=\"14.00\">value = 9.689</text>\n</g>\n<!-- 2&#45;&gt;4 -->\n<g id=\"edge4\" class=\"edge\"><title>2&#45;&gt;4</title>\n<path fill=\"none\" stroke=\"black\" d=\"M662.86,-452.5C698.3,-452.5 743.274,-452.5 779.124,-452.5\"/>\n<polygon fill=\"black\" stroke=\"black\" points=\"779.456,-456 789.456,-452.5 779.455,-449 779.456,-456\"/>\n</g>\n<!-- 6 -->\n<g id=\"node7\" class=\"node\"><title>6</title>\n<polygon fill=\"#e58139\" fill-opacity=\"0.619608\" stroke=\"black\" points=\"893.667,-408 789.667,-408 789.667,-355 893.667,-355 893.667,-408\"/>\n<text text-anchor=\"start\" x=\"806.667\" y=\"-392.8\" font-family=\"Times,serif\" font-size=\"14.00\">mse = 0.123</text>\n<text text-anchor=\"start\" x=\"797.667\" y=\"-377.8\" font-family=\"Times,serif\" font-size=\"14.00\">samples = 3656</text>\n<text text-anchor=\"start\" x=\"803.667\" y=\"-362.8\" font-family=\"Times,serif\" font-size=\"14.00\">value = 9.949</text>\n</g>\n<!-- 5&#45;&gt;6 -->\n<g id=\"edge6\" class=\"edge\"><title>5&#45;&gt;6</title>\n<path fill=\"none\" stroke=\"black\" d=\"M680.941,-345.107C712.981,-352.407 749.613,-360.754 779.708,-367.611\"/>\n<polygon fill=\"black\" stroke=\"black\" points=\"779.119,-371.066 789.647,-369.875 780.674,-364.241 779.119,-371.066\"/>\n</g>\n<!-- 7 -->\n<g id=\"node8\" class=\"node\"><title>7</title>\n<polygon fill=\"#e58139\" stroke=\"black\" points=\"893.667,-337 789.667,-337 789.667,-284 893.667,-284 893.667,-337\"/>\n<text text-anchor=\"start\" x=\"806.667\" y=\"-321.8\" font-family=\"Times,serif\" font-size=\"14.00\">mse = 0.358</text>\n<text text-anchor=\"start\" x=\"797.667\" y=\"-306.8\" font-family=\"Times,serif\" font-size=\"14.00\">samples = 8771</text>\n<text text-anchor=\"start\" x=\"800.167\" y=\"-291.8\" font-family=\"Times,serif\" font-size=\"14.00\">value = 10.528</text>\n</g>\n<!-- 5&#45;&gt;7 -->\n<g id=\"edge7\" class=\"edge\"><title>5&#45;&gt;7</title>\n<path fill=\"none\" stroke=\"black\" d=\"M680.941,-321.957C712.841,-319.669 749.295,-317.054 779.315,-314.901\"/>\n<polygon fill=\"black\" stroke=\"black\" points=\"779.923,-318.366 789.647,-314.16 779.422,-311.384 779.923,-318.366\"/>\n</g>\n<!-- 9 -->\n<g id=\"node10\" class=\"node\"><title>9</title>\n<polygon fill=\"#e58139\" fill-opacity=\"0.007843\" stroke=\"black\" points=\"680.167,-255.5 525.167,-255.5 525.167,-187.5 680.167,-187.5 680.167,-255.5\"/>\n<text text-anchor=\"start\" x=\"533.167\" y=\"-240.3\" font-family=\"Times,serif\" font-size=\"14.00\">fiSecondaryDesc ≤ 116.5</text>\n<text text-anchor=\"start\" x=\"567.667\" y=\"-225.3\" font-family=\"Times,serif\" font-size=\"14.00\">mse = 0.088</text>\n<text text-anchor=\"start\" x=\"558.667\" y=\"-210.3\" font-family=\"Times,serif\" font-size=\"14.00\">samples = 1010</text>\n<text text-anchor=\"start\" x=\"564.667\" y=\"-195.3\" font-family=\"Times,serif\" font-size=\"14.00\">value = 9.024</text>\n</g>\n<!-- 8&#45;&gt;9 -->\n<g id=\"edge9\" class=\"edge\"><title>8&#45;&gt;9</title>\n<path fill=\"none\" stroke=\"black\" d=\"M409.7,-221.5C441.38,-221.5 480.265,-221.5 514.734,-221.5\"/>\n<polygon fill=\"black\" stroke=\"black\" points=\"514.802,-225 524.802,-221.5 514.802,-218 514.802,-225\"/>\n</g>\n<!-- 12 -->\n<g id=\"node13\" class=\"node\"><title>12</title>\n<polygon fill=\"#e58139\" fill-opacity=\"0.235294\" stroke=\"black\" points=\"678.667,-131.5 526.667,-131.5 526.667,-63.5 678.667,-63.5 678.667,-131.5\"/>\n<text text-anchor=\"start\" x=\"534.667\" y=\"-116.3\" font-family=\"Times,serif\" font-size=\"14.00\">MachineID ≤ 1063024.5</text>\n<text text-anchor=\"start\" x=\"567.667\" y=\"-101.3\" font-family=\"Times,serif\" font-size=\"14.00\">mse = 0.089</text>\n<text text-anchor=\"start\" x=\"562.167\" y=\"-86.3\" font-family=\"Times,serif\" font-size=\"14.00\">samples = 800</text>\n<text text-anchor=\"start\" x=\"564.667\" y=\"-71.3\" font-family=\"Times,serif\" font-size=\"14.00\">value = 9.367</text>\n</g>\n<!-- 8&#45;&gt;12 -->\n<g id=\"edge12\" class=\"edge\"><title>8&#45;&gt;12</title>\n<path fill=\"none\" stroke=\"black\" d=\"M409.7,-190.848C443.827,-174.253 486.316,-153.592 522.638,-135.929\"/>\n<polygon fill=\"black\" stroke=\"black\" points=\"524.269,-139.029 531.731,-131.508 521.208,-132.733 524.269,-139.029\"/>\n</g>\n<!-- 10 -->\n<g id=\"node11\" class=\"node\"><title>10</title>\n<polygon fill=\"none\" stroke=\"black\" points=\"890.167,-266 793.167,-266 793.167,-213 890.167,-213 890.167,-266\"/>\n<text text-anchor=\"start\" x=\"806.667\" y=\"-250.8\" font-family=\"Times,serif\" font-size=\"14.00\">mse = 0.082</text>\n<text text-anchor=\"start\" x=\"801.167\" y=\"-235.8\" font-family=\"Times,serif\" font-size=\"14.00\">samples = 983</text>\n<text text-anchor=\"start\" x=\"803.667\" y=\"-220.8\" font-family=\"Times,serif\" font-size=\"14.00\">value = 9.012</text>\n</g>\n<!-- 9&#45;&gt;10 -->\n<g id=\"edge10\" class=\"edge\"><title>9&#45;&gt;10</title>\n<path fill=\"none\" stroke=\"black\" d=\"M680.286,-227.319C713.579,-229.848 751.932,-232.761 782.784,-235.104\"/>\n<polygon fill=\"black\" stroke=\"black\" points=\"782.705,-238.608 792.941,-235.875 783.235,-231.628 782.705,-238.608\"/>\n</g>\n<!-- 11 -->\n<g id=\"node12\" class=\"node\"><title>11</title>\n<polygon fill=\"#e58139\" fill-opacity=\"0.301961\" stroke=\"black\" points=\"887.667,-195 795.667,-195 795.667,-142 887.667,-142 887.667,-195\"/>\n<text text-anchor=\"start\" x=\"806.667\" y=\"-179.8\" font-family=\"Times,serif\" font-size=\"14.00\">mse = 0.085</text>\n<text text-anchor=\"start\" x=\"804.667\" y=\"-164.8\" font-family=\"Times,serif\" font-size=\"14.00\">samples = 27</text>\n<text text-anchor=\"start\" x=\"803.667\" y=\"-149.8\" font-family=\"Times,serif\" font-size=\"14.00\">value = 9.471</text>\n</g>\n<!-- 9&#45;&gt;11 -->\n<g id=\"edge11\" class=\"edge\"><title>9&#45;&gt;11</title>\n<path fill=\"none\" stroke=\"black\" d=\"M680.286,-204.366C714.578,-196.697 754.239,-187.828 785.541,-180.828\"/>\n<polygon fill=\"black\" stroke=\"black\" points=\"786.398,-184.223 795.393,-178.625 784.87,-177.391 786.398,-184.223\"/>\n</g>\n<!-- 13 -->\n<g id=\"node14\" class=\"node\"><title>13</title>\n<polygon fill=\"#e58139\" fill-opacity=\"0.313725\" stroke=\"black\" points=\"890.167,-124 793.167,-124 793.167,-71 890.167,-71 890.167,-124\"/>\n<text text-anchor=\"start\" x=\"810.167\" y=\"-108.8\" font-family=\"Times,serif\" font-size=\"14.00\">mse = 0.08</text>\n<text text-anchor=\"start\" x=\"801.167\" y=\"-93.8\" font-family=\"Times,serif\" font-size=\"14.00\">samples = 332</text>\n<text text-anchor=\"start\" x=\"806.667\" y=\"-78.8\" font-family=\"Times,serif\" font-size=\"14.00\">value = 9.49</text>\n</g>\n<!-- 12&#45;&gt;13 -->\n<g id=\"edge13\" class=\"edge\"><title>12&#45;&gt;13</title>\n<path fill=\"none\" stroke=\"black\" d=\"M678.981,-97.5C712.591,-97.5 751.57,-97.5 782.834,-97.5\"/>\n<polygon fill=\"black\" stroke=\"black\" points=\"783.123,-101 793.122,-97.5 783.122,-94.0001 783.123,-101\"/>\n</g>\n<!-- 14 -->\n<g id=\"node15\" class=\"node\"><title>14</title>\n<polygon fill=\"#e58139\" fill-opacity=\"0.176471\" stroke=\"black\" points=\"890.167,-53 793.167,-53 793.167,-0 890.167,-0 890.167,-53\"/>\n<text text-anchor=\"start\" x=\"806.667\" y=\"-37.8\" font-family=\"Times,serif\" font-size=\"14.00\">mse = 0.077</text>\n<text text-anchor=\"start\" x=\"801.167\" y=\"-22.8\" font-family=\"Times,serif\" font-size=\"14.00\">samples = 468</text>\n<text text-anchor=\"start\" x=\"806.667\" y=\"-7.8\" font-family=\"Times,serif\" font-size=\"14.00\">value = 9.28</text>\n</g>\n<!-- 12&#45;&gt;14 -->\n<g id=\"edge14\" class=\"edge\"><title>12&#45;&gt;14</title>\n<path fill=\"none\" stroke=\"black\" d=\"M678.981,-74.9376C712.737,-64.825 751.909,-53.0898 783.242,-43.7032\"/>\n<polygon fill=\"black\" stroke=\"black\" points=\"784.548,-46.9658 793.122,-40.7432 782.539,-40.2602 784.548,-46.9658\"/>\n</g>\n</g>\n</svg>\n"
          },
          "metadata": {}
        }
      ]
    },
    {
      "metadata": {
        "_uuid": "6b6e628d571c108a71d30445c17f226b5037b33f"
      },
      "cell_type": "markdown",
      "source": "Let's see what happens if we create a bigger tree."
    },
    {
      "metadata": {
        "trusted": true,
        "_uuid": "b26e645cbe05163ee4f7c28b799b82b7761e3a0d"
      },
      "cell_type": "code",
      "source": "m = RandomForestRegressor(n_estimators=1, bootstrap=False, n_jobs=-1)\nm.fit(X_train, y_train)\nprint_score(m)",
      "execution_count": 32,
      "outputs": [
        {
          "output_type": "stream",
          "text": "[7.215595591812694e-17, 0.48190677542108634, 1.0, 0.5852617997763094]\n",
          "name": "stdout"
        }
      ]
    },
    {
      "metadata": {
        "_uuid": "e5d97643db5fc17d1491d523353432387140f27a"
      },
      "cell_type": "markdown",
      "source": "The training set result looks great! But the validation set is worse than our original model. This is why we need to use *bagging* of multiple trees to get more generalizable results."
    },
    {
      "metadata": {
        "_uuid": "3aa0517b0aaebe10f38795a8d70e17cb7852b1c1"
      },
      "cell_type": "markdown",
      "source": "## Bagging"
    },
    {
      "metadata": {
        "_uuid": "d09094ea4745e94ed20fae5e38544ed9d15db8e1"
      },
      "cell_type": "markdown",
      "source": "### Intro to bagging"
    },
    {
      "metadata": {
        "_uuid": "68442fcd7eb5f82f8a8ec2a7ce772ac41b6a815d"
      },
      "cell_type": "markdown",
      "source": "To learn about bagging in random forests, let's start with our basic model again."
    },
    {
      "metadata": {
        "trusted": true,
        "_uuid": "5af941fe1827be61fd5c0bc3d6b03abc0805dcc4"
      },
      "cell_type": "code",
      "source": "m = RandomForestRegressor(n_jobs=-1)\nm.fit(X_train, y_train)\nprint_score(m)",
      "execution_count": 33,
      "outputs": [
        {
          "output_type": "stream",
          "text": "/opt/conda/lib/python3.6/site-packages/sklearn/ensemble/forest.py:246: FutureWarning: The default value of n_estimators will change from 10 in version 0.20 to 100 in 0.22.\n  \"10 in version 0.20 to 100 in 0.22.\", FutureWarning)\n",
          "name": "stderr"
        },
        {
          "output_type": "stream",
          "text": "[0.11170744814113336, 0.3757822105533713, 0.9728472008674894, 0.7478143284031276]\n",
          "name": "stdout"
        }
      ]
    },
    {
      "metadata": {
        "_uuid": "3a5168a933d90491ffce0bcd10fde92baecca7d5"
      },
      "cell_type": "markdown",
      "source": "We'll grab the predictions for each individual tree, and look at one example."
    },
    {
      "metadata": {
        "trusted": true,
        "_uuid": "dc6c4e1e860742bf6a56b3d58dd747f73aad612b"
      },
      "cell_type": "code",
      "source": "preds = np.stack([t.predict(X_valid) for t in m.estimators_])\npreds[:,0], np.mean(preds[:,0]), y_valid[0]",
      "execution_count": 34,
      "outputs": [
        {
          "output_type": "execute_result",
          "execution_count": 34,
          "data": {
            "text/plain": "(array([9.85219, 9.30565, 8.95545, 8.95545, 9.01797, 8.95545, 8.95545, 9.04782, 8.9872 , 9.04782]),\n 9.108044548426617,\n 9.104979856318357)"
          },
          "metadata": {}
        }
      ]
    },
    {
      "metadata": {
        "trusted": true,
        "_uuid": "e56a9c4ff25aacae1355e5ba03a2dbb530a62946"
      },
      "cell_type": "code",
      "source": "preds.shape",
      "execution_count": 35,
      "outputs": [
        {
          "output_type": "execute_result",
          "execution_count": 35,
          "data": {
            "text/plain": "(10, 12000)"
          },
          "metadata": {}
        }
      ]
    },
    {
      "metadata": {
        "trusted": true,
        "_uuid": "2a95bdf7abbdb7280081aaf127d93e454b001c3d"
      },
      "cell_type": "code",
      "source": "plt.plot([metrics.r2_score(y_valid, np.mean(preds[:i+1], axis=0)) for i in range(10)]);",
      "execution_count": 36,
      "outputs": [
        {
          "output_type": "display_data",
          "data": {
            "text/plain": "<Figure size 432x288 with 1 Axes>",
            "image/png": "[encoded data removed]"
          },
          "metadata": {}
        }
      ]
    },
    {
      "metadata": {
        "_uuid": "51f78a522fa6f5088e9631fd3b993e4208a54043"
      },
      "cell_type": "markdown",
      "source": "The shape of this curve suggests that adding more trees isn't going to help us much. Let's check. (Compare this to our original model on a sample)"
    },
    {
      "metadata": {
        "trusted": true,
        "_uuid": "ca172db654ada609895f1db8918e5f9623e57a57"
      },
      "cell_type": "code",
      "source": "m = RandomForestRegressor(n_estimators=20, n_jobs=-1)\nm.fit(X_train, y_train)\nprint_score(m)",
      "execution_count": 37,
      "outputs": [
        {
          "output_type": "stream",
          "text": "[0.10196082049617146, 0.37228407857010626, 0.9773787297344856, 0.7524876347316994]\n",
          "name": "stdout"
        }
      ]
    },
    {
      "metadata": {
        "trusted": true,
        "_uuid": "02866e491723323502ce2bce12c24659a2bd5332"
      },
      "cell_type": "code",
      "source": "m = RandomForestRegressor(n_estimators=40, n_jobs=-1)\nm.fit(X_train, y_train)\nprint_score(m)",
      "execution_count": 38,
      "outputs": [
        {
          "output_type": "stream",
          "text": "[0.0965270778606008, 0.36890087739958377, 0.9797255695252405, 0.7569658234562869]\n",
          "name": "stdout"
        }
      ]
    },
    {
      "metadata": {
        "trusted": true,
        "_uuid": "f578620d544df3b6c26deb4e022cc99f93e6b62f"
      },
      "cell_type": "code",
      "source": "m = RandomForestRegressor(n_estimators=80, n_jobs=-1)\nm.fit(X_train, y_train)\nprint_score(m)",
      "execution_count": 39,
      "outputs": [
        {
          "output_type": "stream",
          "text": "[0.09345378939181437, 0.37041340747330503, 0.9809960369600192, 0.7549688095453326]\n",
          "name": "stdout"
        }
      ]
    },
    {
      "metadata": {
        "_uuid": "807e7f7f91ac2bbccdde1fa972d56344a3e5d345"
      },
      "cell_type": "markdown",
      "source": "### Out-of-bag (OOB) score"
    },
    {
      "metadata": {
        "_uuid": "7ae2fb6e2bab0aef151f926427ed2db048200034"
      },
      "cell_type": "markdown",
      "source": "Is our validation set worse than our training set because we're over-fitting, or because the validation set is for a different time period, or a bit of both? With the existing information we've shown, we can't tell. However, random forests have a very clever trick called *out-of-bag (OOB) error* which can handle this (and more!)\n\nThe idea is to calculate error on the training set, but only include the trees in the calculation of a row's error where that row was *not* included in training that tree. This allows us to see whether the model is over-fitting, without needing a separate validation set.\n\nThis also has the benefit of allowing us to see whether our model generalizes, even if we only have a small amount of data so want to avoid separating some out to create a validation set.\n\nThis is as simple as adding one more parameter to our model constructor. We print the OOB error last in our `print_score` function below."
    },
    {
      "metadata": {
        "trusted": true,
        "_uuid": "59f01f8b276d126b758161773bf62e43250329e4"
      },
      "cell_type": "code",
      "source": "m = RandomForestRegressor(n_estimators=40, n_jobs=-1, oob_score=True)\nm.fit(X_train, y_train)\nprint_score(m)",
      "execution_count": 40,
      "outputs": [
        {
          "output_type": "stream",
          "text": "[0.0963214940388564, 0.37371391723960845, 0.9798118387126845, 0.7505827325775328, 0.8559100395466982]\n",
          "name": "stdout"
        }
      ]
    },
    {
      "metadata": {
        "_uuid": "ff6d78b33d0511ae0af00fbd7af4f21a7977ad23"
      },
      "cell_type": "markdown",
      "source": "This shows that our validation set time difference is making an impact, as is model over-fitting."
    },
    {
      "metadata": {
        "_uuid": "6575648121f4fab7aa3b845d6405df2acead7825"
      },
      "cell_type": "markdown",
      "source": "## Reducing over-fitting"
    },
    {
      "metadata": {
        "_uuid": "78c621c1cbdcf935d832328e666d9d7441aacb8a"
      },
      "cell_type": "markdown",
      "source": "### Subsampling"
    },
    {
      "metadata": {
        "_uuid": "f4ab1735a914bb7ab2d3ca90d472262874cfe396"
      },
      "cell_type": "markdown",
      "source": "It turns out that one of the easiest ways to avoid over-fitting is also one of the best ways to speed up analysis: *subsampling*. Let's return to using our full dataset, so that we can demonstrate the impact of this technique."
    },
    {
      "metadata": {
        "trusted": true,
        "_uuid": "4b3c4009011a8deb77167779f8b5de5e8247503f"
      },
      "cell_type": "code",
      "source": "df_trn, y_trn, nas = proc_df(df_raw, 'SalePrice')\nX_train, X_valid = split_vals(df_trn, n_trn)\ny_train, y_valid = split_vals(y_trn, n_trn)",
      "execution_count": 41,
      "outputs": []
    },
    {
      "metadata": {
        "_uuid": "b56c45f744aea566df24591f4e00f6493f6e2f56"
      },
      "cell_type": "markdown",
      "source": "The basic idea is this: rather than limit the total amount of data that our model can access, let's instead limit it to a *different* random subset per tree. That way, given enough trees, the model can still see *all* the data, but for each individual tree it'll be just as fast as if we had cut down our dataset as before."
    },
    {
      "metadata": {
        "trusted": true,
        "_uuid": "f40e27536f254926ad7e51d28d60d22d9d60c81d"
      },
      "cell_type": "code",
      "source": "set_rf_samples(20000)",
      "execution_count": 42,
      "outputs": []
    },
    {
      "metadata": {
        "trusted": true,
        "_uuid": "4a7f184ac86f72660993574de5660fc6bf509b78"
      },
      "cell_type": "code",
      "source": "m = RandomForestRegressor(n_jobs=-1, oob_score=True)\n%time m.fit(X_train, y_train)\nprint_score(m)",
      "execution_count": 43,
      "outputs": [
        {
          "output_type": "stream",
          "text": "/opt/conda/lib/python3.6/site-packages/sklearn/ensemble/forest.py:246: FutureWarning: The default value of n_estimators will change from 10 in version 0.20 to 100 in 0.22.\n  \"10 in version 0.20 to 100 in 0.22.\", FutureWarning)\n",
          "name": "stderr"
        },
        {
          "output_type": "stream",
          "text": "CPU times: user 9.44 s, sys: 804 ms, total: 10.2 s\nWall time: 5.36 s\n[0.241709114133709, 0.2786232353334634, 0.877898533679244, 0.8613618879004803, 0.8650929219956907]\n",
          "name": "stdout"
        }
      ]
    },
    {
      "metadata": {
        "_uuid": "e2696d25bb72dc352a7ad082d66f9d325273f38a"
      },
      "cell_type": "markdown",
      "source": "Since each additional tree allows the model to see more data, this approach can make additional trees more useful."
    },
    {
      "metadata": {
        "trusted": true,
        "_uuid": "6f1272327940aee9875d27ca9e5125681f04a2cb"
      },
      "cell_type": "code",
      "source": "m = RandomForestRegressor(n_estimators=40, n_jobs=-1, oob_score=True)\nm.fit(X_train, y_train)\nprint_score(m)",
      "execution_count": 44,
      "outputs": [
        {
          "output_type": "stream",
          "text": "[0.22720934188243458, 0.26367225810174827, 0.8921085093128244, 0.8758413873753741, 0.8805752808671766]\n",
          "name": "stdout"
        }
      ]
    },
    {
      "metadata": {
        "_uuid": "22c04327010eb2a9107bfee538e5f12e1ffce23f"
      },
      "cell_type": "markdown",
      "source": "### Tree building parameters"
    },
    {
      "metadata": {
        "_uuid": "0465d8d0ffa27759987d46d0d1e1db14be4afc6d"
      },
      "cell_type": "markdown",
      "source": "We revert to using a full bootstrap sample in order to show the impact of other over-fitting avoidance methods."
    },
    {
      "metadata": {
        "trusted": true,
        "_uuid": "8a027d4c92012a643b69a76838f187cc4d63e950"
      },
      "cell_type": "code",
      "source": "reset_rf_samples()",
      "execution_count": 45,
      "outputs": []
    },
    {
      "metadata": {
        "_uuid": "93070592fa4b4028e348815c340872215725ff54"
      },
      "cell_type": "markdown",
      "source": "Let's get a baseline for this full set to compare to."
    },
    {
      "metadata": {
        "trusted": true,
        "_uuid": "e8c9456f4d4dc11c3f03aa153bd96518e1ee24fb"
      },
      "cell_type": "code",
      "source": "def dectree_max_depth(tree):\n    children_left = tree.children_left\n    children_right = tree.children_right\n\n    def walk(node_id):\n        if (children_left[node_id] != children_right[node_id]):\n            left_max = 1 + walk(children_left[node_id])\n            right_max = 1 + walk(children_right[node_id])\n            return max(left_max, right_max)\n        else: # leaf\n            return 1\n\n    root_node_id = 0\n    return walk(root_node_id)",
      "execution_count": 46,
      "outputs": []
    },
    {
      "metadata": {
        "trusted": true,
        "_uuid": "1d2bcbdb2c5670eec713c483a3ef96a77a01e7cc"
      },
      "cell_type": "code",
      "source": "m = RandomForestRegressor(n_estimators=40, n_jobs=-1, oob_score=True)\nm.fit(X_train, y_train)\nprint_score(m)",
      "execution_count": 47,
      "outputs": [
        {
          "output_type": "stream",
          "text": "[0.07847146703647283, 0.23724192966949895, 0.9871305979179239, 0.8994850017026503, 0.9081717302891292]\n",
          "name": "stdout"
        }
      ]
    },
    {
      "metadata": {
        "trusted": true,
        "_uuid": "4e86b19014d17db8c9fb7ba780f97adee8228fa4"
      },
      "cell_type": "code",
      "source": "t=m.estimators_[0].tree_",
      "execution_count": 48,
      "outputs": []
    },
    {
      "metadata": {
        "trusted": true,
        "_uuid": "cc0cd4abc75914f528e09e6beeeb096fbb5b46ae"
      },
      "cell_type": "code",
      "source": "dectree_max_depth(t)",
      "execution_count": 49,
      "outputs": [
        {
          "output_type": "execute_result",
          "execution_count": 49,
          "data": {
            "text/plain": "44"
          },
          "metadata": {}
        }
      ]
    },
    {
      "metadata": {
        "trusted": true,
        "_uuid": "d48a8833c6bc397d6fee49c48b76cfa6045bc7bc"
      },
      "cell_type": "code",
      "source": "m = RandomForestRegressor(n_estimators=40, min_samples_leaf=5, n_jobs=-1, oob_score=True)\nm.fit(X_train, y_train)\nprint_score(m)",
      "execution_count": 50,
      "outputs": [
        {
          "output_type": "stream",
          "text": "[0.14082231406963283, 0.23386668099484423, 0.9585544622135364, 0.902324716938091, 0.9070162498612564]\n",
          "name": "stdout"
        }
      ]
    },
    {
      "metadata": {
        "trusted": true,
        "_uuid": "e9cd3ce553fff8caa07e30199fd7952b72fe3a51"
      },
      "cell_type": "code",
      "source": "t=m.estimators_[0].tree_",
      "execution_count": 51,
      "outputs": []
    },
    {
      "metadata": {
        "trusted": true,
        "_uuid": "eac32886427523ee13618ef3c9a230c64fe7a58e"
      },
      "cell_type": "code",
      "source": "dectree_max_depth(t)",
      "execution_count": 52,
      "outputs": [
        {
          "output_type": "execute_result",
          "execution_count": 52,
          "data": {
            "text/plain": "38"
          },
          "metadata": {}
        }
      ]
    },
    {
      "metadata": {
        "_uuid": "567fea0e9400b8721842a758ca27d5d7f815e99b"
      },
      "cell_type": "markdown",
      "source": "Another way to reduce over-fitting is to grow our trees less deeply. We do this by specifying (with `min_samples_leaf`) that we require some minimum number of rows in every leaf node. This has two benefits:\n\n- There are less decision rules for each leaf node; simpler models should generalize better\n- The predictions are made by averaging more rows in the leaf node, resulting in less volatility"
    },
    {
      "metadata": {
        "trusted": true,
        "_uuid": "5037176ebd8869b64fa80b1f6be2df237a6b5a56"
      },
      "cell_type": "code",
      "source": "m = RandomForestRegressor(n_estimators=40, min_samples_leaf=3, n_jobs=-1, oob_score=True)\nm.fit(X_train, y_train)\nprint_score(m)",
      "execution_count": 53,
      "outputs": [
        {
          "output_type": "stream",
          "text": "[0.11501051476578919, 0.23374507610005152, 0.9723554248068188, 0.9024262679960765, 0.9087286030617103]\n",
          "name": "stdout"
        }
      ]
    },
    {
      "metadata": {
        "_uuid": "95c3c4113e46efa410a40f685ddfad10b584bc1e"
      },
      "cell_type": "markdown",
      "source": "We can also increase the amount of variation amongst the trees by not only use a sample of rows for each tree, but to also using a sample of *columns* for each *split*. We do this by specifying `max_features`, which is the proportion of features to randomly select from at each split."
    },
    {
      "metadata": {
        "_uuid": "459119382bd778328d9df19b400c22beff8fe4e9"
      },
      "cell_type": "markdown",
      "source": "- None\n- 0.5\n- 'sqrt'"
    },
    {
      "metadata": {
        "_uuid": "19c8d77d0e9e60e00c803aa6ce290fe5d24fbad2"
      },
      "cell_type": "markdown",
      "source": "- 1, 3, 5, 10, 25, 100"
    },
    {
      "metadata": {
        "trusted": true,
        "_uuid": "ddd16f5c7d0699237607cb219596ad3d0202da65"
      },
      "cell_type": "code",
      "source": "m = RandomForestRegressor(n_estimators=40, min_samples_leaf=3, max_features=0.5, n_jobs=-1, oob_score=True)\nm.fit(X_train, y_train)\nprint_score(m)",
      "execution_count": null,
      "outputs": []
    },
    {
      "metadata": {
        "_uuid": "f65a6d2ab32c15bc9f072421f7e2768b8e57c6da"
      },
      "cell_type": "markdown",
      "source": "We can't compare our results directly with the Kaggle competition, since it used a different validation set (and we can no longer to submit to this competition) - but we can at least see that we're getting similar results to the winners based on the dataset we have.\n\nThe sklearn docs [show an example](http://scikit-learn.org/stable/auto_examples/ensemble/plot_ensemble_oob.html) of different `max_features` methods with increasing numbers of trees - as you see, using a subset of features on each split requires using more trees, but results in better models:\n![sklearn max_features chart](http://scikit-learn.org/stable/_images/sphx_glr_plot_ensemble_oob_001.png)"
    }
  ],
  "metadata": {
    "kernelspec": {
      "display_name": "Python 3",
      "language": "python",
      "name": "python3"
    },
    "language_info": {
      "name": "python",
      "version": "3.6.6",
      "mimetype": "text/x-python",
      "codemirror_mode": {
        "name": "ipython",
        "version": 3
      },
      "pygments_lexer": "ipython3",
      "nbconvert_exporter": "python",
      "file_extension": ".py"
    }
  },
  "nbformat": 4,
  "nbformat_minor": 1
}